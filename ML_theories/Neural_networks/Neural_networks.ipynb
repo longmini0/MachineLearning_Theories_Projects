{
 "cells": [
  {
   "cell_type": "markdown",
   "metadata": {},
   "source": [
    "# Neural Networks\n",
    "\n",
    "## Introduction\n",
    "\n",
    "In this exercise, you will implement the backpropagation algorithm for neural networks and apply it to the task of hand-written digit recognition. "
   ]
  },
  {
   "cell_type": "code",
   "execution_count": 1,
   "metadata": {},
   "outputs": [],
   "source": [
    "# used for manipulating directory paths\n",
    "import os\n",
    "\n",
    "# Scientific and vector computation for python\n",
    "import numpy as np\n",
    "\n",
    "# Plotting library\n",
    "import matplotlib.pyplot as plt\n",
    "\n",
    "# Optimization module in scipy\n",
    "from scipy import optimize\n",
    "\n",
    "# will be used to load MATLAB mat datafile format\n",
    "from scipy.io import loadmat\n",
    "\n",
    "# tells matplotlib to embed plots within the notebook\n",
    "%matplotlib inline\n",
    "\n",
    "import scipy.io as scio"
   ]
  },
  {
   "cell_type": "markdown",
   "metadata": {},
   "source": [
    "We start the exercise by first loading the dataset. "
   ]
  },
  {
   "cell_type": "code",
   "execution_count": 2,
   "metadata": {},
   "outputs": [],
   "source": [
    "#  training data stored in arrays X, y\n",
    "data = loadmat(os.path.join('Data', 'ex5data1.mat'))\n",
    "X = data['X']\n",
    "y = data['y'].flatten()\n",
    "\n",
    "# Number of training examples\n",
    "m = y.size"
   ]
  },
  {
   "cell_type": "code",
   "execution_count": 3,
   "metadata": {},
   "outputs": [
    {
     "data": {
      "text/plain": [
       "{'__header__': b'MATLAB 5.0 MAT-file, Platform: GLNXA64, Created on: Sun Oct 16 13:09:09 2011',\n",
       " '__version__': '1.0',\n",
       " '__globals__': [],\n",
       " 'X': array([[0., 0., 0., ..., 0., 0., 0.],\n",
       "        [0., 0., 0., ..., 0., 0., 0.],\n",
       "        [0., 0., 0., ..., 0., 0., 0.],\n",
       "        ...,\n",
       "        [0., 0., 0., ..., 0., 0., 0.],\n",
       "        [0., 0., 0., ..., 0., 0., 0.],\n",
       "        [0., 0., 0., ..., 0., 0., 0.]]),\n",
       " 'y': array([[10],\n",
       "        [10],\n",
       "        [10],\n",
       "        ...,\n",
       "        [ 9],\n",
       "        [ 9],\n",
       "        [ 9]], dtype=uint8)}"
      ]
     },
     "execution_count": 3,
     "metadata": {},
     "output_type": "execute_result"
    }
   ],
   "source": [
    "data"
   ]
  },
  {
   "cell_type": "code",
   "execution_count": 4,
   "metadata": {},
   "outputs": [
    {
     "data": {
      "text/plain": [
       "(5000, 400)"
      ]
     },
     "execution_count": 4,
     "metadata": {},
     "output_type": "execute_result"
    }
   ],
   "source": [
    "X.shape"
   ]
  },
  {
   "cell_type": "code",
   "execution_count": 5,
   "metadata": {},
   "outputs": [
    {
     "data": {
      "text/plain": [
       "(5000,)"
      ]
     },
     "execution_count": 5,
     "metadata": {},
     "output_type": "execute_result"
    }
   ],
   "source": [
    "y.shape"
   ]
  },
  {
   "cell_type": "code",
   "execution_count": 6,
   "metadata": {},
   "outputs": [
    {
     "data": {
      "text/plain": [
       "(array([[0., 0., 0., ..., 0., 0., 0.],\n",
       "        [0., 0., 0., ..., 0., 0., 0.],\n",
       "        [0., 0., 0., ..., 0., 0., 0.],\n",
       "        ...,\n",
       "        [0., 0., 0., ..., 0., 0., 0.],\n",
       "        [0., 0., 0., ..., 0., 0., 0.],\n",
       "        [0., 0., 0., ..., 0., 0., 0.]]),\n",
       " array([10, 10, 10, ...,  9,  9,  9], dtype=uint8))"
      ]
     },
     "execution_count": 6,
     "metadata": {},
     "output_type": "execute_result"
    }
   ],
   "source": [
    "X, y"
   ]
  },
  {
   "cell_type": "markdown",
   "metadata": {},
   "source": [
    "### 1.1 Visualizing the data\n",
    "\n",
    "You will begin by visualizing a subset of the training set, using the function `display_data`. \n",
    "\n",
    "There are 5000 training examples in `ex5data1.mat`, where each training example is a 20 pixel by 20 pixel grayscale image of the digit. Each pixel is represented by a floating point number indicating the grayscale intensity at that location. The 20 by 20 grid of pixels is “unrolled” into a 400-dimensional vector. Each\n",
    "of these training examples becomes a single row in our data matrix $X$. This gives us a 5000 by 400 matrix $X$ where every row is a training example for a handwritten digit image.\n",
    "\n",
    "$$ X = \\begin{bmatrix} - \\left(x^{(1)} \\right)^T - \\\\\n",
    "- \\left(x^{(2)} \\right)^T - \\\\\n",
    "\\vdots \\\\\n",
    "- \\left(x^{(m)} \\right)^T - \\\\\n",
    "\\end{bmatrix}\n",
    "$$\n",
    "\n",
    "The second part of the training set is a 5000-dimensional vector `y` that contains labels for the training set. \n",
    "The following cell randomly selects 100 images from the dataset and plots them."
   ]
  },
  {
   "cell_type": "code",
   "execution_count": 7,
   "metadata": {},
   "outputs": [],
   "source": [
    "def display_data(x):\n",
    "    (m, n) = x.shape\n",
    "\n",
    "    # Set example_width automatically if not passed in\n",
    "    example_width = np.round(np.sqrt(n)).astype(int)\n",
    "    example_height = (n / example_width).astype(int)\n",
    "\n",
    "    # Compute the number of items to display\n",
    "    display_rows = np.floor(np.sqrt(m)).astype(int)\n",
    "    display_cols = np.ceil(m / display_rows).astype(int)\n",
    "\n",
    "    # Between images padding\n",
    "    pad = 1\n",
    "\n",
    "    # Setup blank display\n",
    "    display_array = - np.ones((pad + display_rows * (example_height + pad),\n",
    "                              pad + display_rows * (example_height + pad)))\n",
    "\n",
    "    # Copy each example into a patch on the display array\n",
    "    curr_ex = 0\n",
    "    for j in range(display_rows):\n",
    "        for i in range(display_cols):\n",
    "            if curr_ex > m:\n",
    "                break\n",
    "\n",
    "            # Copy the patch\n",
    "            # Get the max value of the patch\n",
    "            max_val = np.max(np.abs(x[curr_ex]))\n",
    "            display_array[pad + j * (example_height + pad) + np.arange(example_height),\n",
    "                          pad + i * (example_width + pad) + np.arange(example_width)[:, np.newaxis]] = \\\n",
    "                          x[curr_ex].reshape((example_height, example_width)) / max_val\n",
    "            curr_ex += 1\n",
    "\n",
    "        if curr_ex > m:\n",
    "            break\n",
    "\n",
    "    # Display image\n",
    "    plt.figure()\n",
    "    plt.imshow(display_array, cmap='gray', extent=[-1, 1, -1, 1])\n",
    "    plt.axis('off')"
   ]
  },
  {
   "cell_type": "code",
   "execution_count": 8,
   "metadata": {},
   "outputs": [
    {
     "data": {
      "image/png": "[encoded data removed]",
      "text/plain": [
       "<Figure size 432x288 with 1 Axes>"
      ]
     },
     "metadata": {
      "needs_background": "light"
     },
     "output_type": "display_data"
    }
   ],
   "source": [
    "# Randomly select 100 data points to display\n",
    "rand_indices = np.random.permutation(range(m))\n",
    "selected = X[rand_indices[0:100], :]\n",
    "\n",
    "display_data(selected)"
   ]
  },
  {
   "cell_type": "markdown",
   "metadata": {},
   "source": [
    "### 1.2 Model representation\n",
    "\n",
    "Our neural network is shown in the following figure.\n",
    "\n",
    "![](Figures/neural_network.png)\n",
    "\n",
    "It has 3 layers - an input layer, a hidden layer and an output layer. Recall that our inputs are pixel values\n",
    "of digit images. Since the images are of size $20 \\times 20$, this gives us 400 input layer units (not counting the extra bias unit which always outputs +1). The training data was loaded into the variables `X` and `y` above.\n",
    "\n",
    "You have been provided with a set of network parameters ($\\Theta^{(1)}, \\Theta^{(2)}$). These are stored in `ex5weights.mat` and will be loaded in the next cell of this notebook into `Theta1` and `Theta2`. The parameters have dimensions that are sized for a neural network with 25 units in the second layer and 10 output units (corresponding to the 10 digit classes)."
   ]
  },
  {
   "cell_type": "code",
   "execution_count": 9,
   "metadata": {},
   "outputs": [],
   "source": [
    "# Setup the parameters you will use for this exercise\n",
    "input_layer_size  = 400  # 20x20 Input Images of Digits\n",
    "hidden_layer_size = 25   # 25 hidden units\n",
    "num_labels = 10          # 10 labels, from 0 to 9\n",
    "\n",
    "# Load the weights into variables Theta1 and Theta2\n",
    "weights = loadmat(os.path.join('Data', 'ex5weights.mat'))\n",
    "\n",
    "# Theta1 has size 25 x 401\n",
    "# Theta2 has size 10 x 26\n",
    "Theta1, Theta2 = weights['Theta1'], weights['Theta2']\n",
    "\n",
    "# Unroll parameters \n",
    "nn_params = np.concatenate([Theta1.ravel(), Theta2.ravel()])"
   ]
  },
  {
   "cell_type": "code",
   "execution_count": 10,
   "metadata": {},
   "outputs": [
    {
     "data": {
      "text/plain": [
       "((25, 401), (10, 26), (10285,))"
      ]
     },
     "execution_count": 10,
     "metadata": {},
     "output_type": "execute_result"
    }
   ],
   "source": [
    "Theta1.shape, Theta2.shape, nn_params.shape"
   ]
  },
  {
   "cell_type": "markdown",
   "metadata": {},
   "source": [
    "<a id=\"section1\"></a>\n",
    "### 1.3 Feedforward and cost function (15 pts)\n",
    "\n",
    "Now you will implement the cost function and gradient for the neural network. First, complete the code for the function `nnCostFunction` in the next cell to return the cost.\n",
    "\n",
    "Recall that the cost function for the neural network (without regularization) is:\n",
    "\n",
    "$$ J(\\theta) = \\frac{1}{m} \\sum_{i=1}^{m}\\sum_{k=1}^{K} \\left[ - y_k^{(i)} \\log \\left( \\left( h_\\theta \\left( x^{(i)} \\right) \\right)_k \\right) - \\left( 1 - y_k^{(i)} \\right) \\log \\left( 1 - \\left( h_\\theta \\left( x^{(i)} \\right) \\right)_k \\right) \\right]$$\n",
    "\n",
    "where $h_\\theta \\left( x^{(i)} \\right)$ is computed as shown in the neural network figure above, and K = 10 is the total number of possible labels. Note that $h_\\theta(x^{(i)})_k = a_k^{(3)}$ is the activation (output\n",
    "value) of the $k^{th}$ output unit. Also, recall that whereas the original labels (in the variable y) were 0, 1, ..., 9, for the purpose of training a neural network, we need to encode the labels as vectors containing only values 0 or 1, so that\n",
    "\n",
    "$$ y = \n",
    "\\begin{bmatrix} 1 \\\\ 0 \\\\ 0 \\\\\\vdots \\\\ 0 \\end{bmatrix}, \\quad\n",
    "\\begin{bmatrix} 0 \\\\ 1 \\\\ 0 \\\\ \\vdots \\\\ 0 \\end{bmatrix}, \\quad \\cdots  \\quad \\text{or} \\qquad\n",
    "\\begin{bmatrix} 0 \\\\ 0 \\\\ 0 \\\\ \\vdots \\\\ 1 \\end{bmatrix}.\n",
    "$$\n",
    "\n",
    "For example, if $x^{(i)}$ is an image of the digit 5, then the corresponding $y^{(i)}$ (that you should use with the cost function) should be a 10-dimensional vector with $y_5 = 1$, and the other elements equal to 0.\n",
    "\n",
    "You should implement the feedforward computation that computes $h_\\theta(x^{(i)})$ for every example $i$ and sum the cost over all examples. **Your code should also work for a dataset of any size, with any number of labels** (you can assume that there are always at least $K \\ge 3$ labels).\n",
    "\n",
    "<div class=\"alert alert-box alert-warning\">\n",
    "**Implementation Note:** The matrix $X$ contains the examples in rows (i.e., X[i,:] is the i-th training example $x^{(i)}$, expressed as a $n \\times 1$ vector.) When you complete the code in `nnCostFunction`, you will need to add the column of 1’s to the X matrix. The parameters for each unit in the neural network is represented in Theta1 and Theta2 as one row. Specifically, the first row of Theta1 corresponds to the first hidden unit in the second layer. You can use a for-loop over the examples to compute the cost.\n",
    "</div>\n",
    "<a id=\"nnCostFunction\"></a>"
   ]
  },
  {
   "cell_type": "code",
   "execution_count": 11,
   "metadata": {},
   "outputs": [],
   "source": [
    "def sigmoid(z):\n",
    "    return 1 / (1 + np.exp(-z))"
   ]
  },
  {
   "cell_type": "code",
   "execution_count": 12,
   "metadata": {},
   "outputs": [],
   "source": [
    "import pandas as pd"
   ]
  },
  {
   "cell_type": "code",
   "execution_count": 13,
   "metadata": {},
   "outputs": [],
   "source": [
    "def nnCostFunction(nn_params,\n",
    "                   input_layer_size,\n",
    "                   hidden_layer_size,\n",
    "                   num_labels,\n",
    "                   X, y, lmd=0.0):\n",
    "    \"\"\"\n",
    "    Implements the neural network cost function and gradient for a two layer neural \n",
    "    network which performs classification. \n",
    "    \n",
    "    Parameters\n",
    "    ----------\n",
    "    nn_params : array_like\n",
    "        The parameters for the neural network which are \"unrolled\" into \n",
    "        a vector. This needs to be converted back into the weight matrices Theta1\n",
    "        and Theta2.\n",
    "    \n",
    "    input_layer_size : int\n",
    "        Number of features for the input layer. \n",
    "    \n",
    "    hidden_layer_size : int\n",
    "        Number of hidden units in the second layer.\n",
    "    \n",
    "    num_labels : int\n",
    "        Total number of labels, or equivalently number of units in output layer. \n",
    "    \n",
    "    X : array_like\n",
    "        Input dataset. A matrix of shape (m x input_layer_size).\n",
    "    \n",
    "    y : array_like\n",
    "        Dataset labels. A vector of shape (m,).\n",
    "    \n",
    "    lambda_ : float, optional\n",
    "        Regularization parameter.\n",
    " \n",
    "    Returns\n",
    "    -------\n",
    "    J : float\n",
    "        The computed value for the cost function at the current weight values.\n",
    "    \n",
    "    grad : array_like\n",
    "        An \"unrolled\" vector of the partial derivatives of the concatenatation of\n",
    "        neural network weights Theta1 and Theta2.\n",
    "    \n",
    "    Instructions\n",
    "    ------------\n",
    "    You should complete the code by working through the following parts.\n",
    "    \n",
    "    - Part 1: Feedforward the neural network and return the cost in the \n",
    "              variable J. After implementing Part 1, you can verify that your\n",
    "              cost function computation is correct by verifying the cost\n",
    "              computed in the following cell.\n",
    "    \n",
    "    - Part 2: Implement the backpropagation algorithm to compute the gradients\n",
    "              Theta1_grad and Theta2_grad. You should return the partial derivatives of\n",
    "              the cost function with respect to Theta1 and Theta2 in Theta1_grad and\n",
    "              Theta2_grad, respectively. After implementing Part 2, you can check\n",
    "              that your implementation is correct by running checkNNGradients provided\n",
    "              in the utils.py module.\n",
    "    \n",
    "              Note: The vector y passed into the function is a vector of labels\n",
    "                    containing values from 0..K-1. You need to map this vector into a \n",
    "                    binary vector of 1's and 0's to be used with the neural network\n",
    "                    cost function.\n",
    "     \n",
    "              Hint: We recommend implementing backpropagation using a for-loop\n",
    "                    over the training examples if you are implementing it for the \n",
    "                    first time.\n",
    "    \n",
    "    - Part 3: Implement regularization with the cost function and gradients.\n",
    "    \n",
    "              Hint: You can implement this around the code for\n",
    "                    backpropagation. That is, you can compute the gradients for\n",
    "                    the regularization separately and then add them to Theta1_grad\n",
    "                    and Theta2_grad from Part 2.\n",
    "    \n",
    "        \n",
    "    \"\"\"\n",
    "    # Reshape nn_params back into the parameters Theta1 and Theta2, the weight matrices\n",
    "    # for our 2 layer neural network\n",
    "    theta1 = np.reshape(nn_params[:hidden_layer_size * (input_layer_size + 1)],\n",
    "                        (hidden_layer_size, (input_layer_size + 1)))   # (25 * 401)\n",
    "\n",
    "    theta2 = np.reshape(nn_params[(hidden_layer_size * (input_layer_size + 1)):],\n",
    "                        (num_labels, (hidden_layer_size + 1)))   # (10 * 26)\n",
    "\n",
    "    # Setup some useful variables\n",
    "    m = y.size\n",
    "         \n",
    "    # You need to return the following variables correctly \n",
    "    J = 0\n",
    "    theta1_grad = np.zeros(theta1.shape)  # 25 x 401\n",
    "    theta2_grad = np.zeros(theta2.shape)  # 10 x 26\n",
    "\n",
    "    # ===================== Your Code Here =====================\n",
    "    \n",
    "    # for cost\n",
    "    y2 = np.zeros((m, num_labels))   # 5000 * 10\n",
    "    y2 = pd.get_dummies(y.ravel()).to_numpy()   # (5000 * 10)\n",
    "    \n",
    "    X = np.hstack((np.ones((m, 1)), X)) # add a 1st column of 1 --> (5000 * 401)\n",
    "    temp1 = sigmoid(X @ theta1.T) # (5000 * 401) * (401 * 25) = (5000 * 25)\n",
    "    X2 = np.hstack((np.ones((m, 1)), temp1)) # hidden layer (5000 * 26)\n",
    "    temp2 = sigmoid(X2 @ theta2.T) # (5000 * 26) * (26 * 10) = (5000 * 10)\n",
    "    \n",
    "    J1 = (1 / m) * (np.sum(-(y2 * np.log(temp2)) -((1 - y2) * np.log(1 - temp2))))\n",
    "    J2 = (lmd / (2 * m)) * (np.sum(theta1[:, 1:] ** 2) + np.sum(theta2[:, 1:] ** 2))\n",
    "    J = J1 + J2\n",
    "    \n",
    "    # for grad\n",
    "    delta2 = temp2 - y2   # (5000 * 10)\n",
    "    delta = (delta2 @ theta2) * (X2 * (1 - X2))  # (5000 * 26)\n",
    "    delta = delta[:, 1:]   # (5000 * 25)\n",
    "    \n",
    "    theta1_grad = (1 / m) * (delta.T @ X)  # (25 * 401)\n",
    "    theta2_grad = (1 / m) * (delta2.T @ X2)   # (10 * 26)\n",
    "    \n",
    "    reg1 = (lmd / m) * np.hstack((np.zeros((theta1.shape[0], 1)), theta1[:, 1:]))\n",
    "    reg2 = (lmd / m) * np.hstack((np.zeros((theta2.shape[0], 1)), theta2[:, 1:]))\n",
    "    \n",
    "    theta1_grad = theta1_grad + reg1\n",
    "    theta2_grad = theta2_grad + reg2\n",
    "    \n",
    "    \n",
    "    # ================================================================\n",
    "    # Unroll gradients\n",
    "    grad = np.concatenate([theta1_grad.ravel(), theta2_grad.ravel()])\n",
    "\n",
    "    return J, grad"
   ]
  },
  {
   "cell_type": "markdown",
   "metadata": {},
   "source": [
    "<div class=\"alert alert-box alert-warning\">\n",
    "Use the following links to go back to the different parts of this exercise that require to modify the function `nnCostFunction`.<br>\n",
    "\n",
    "Back to:\n",
    "- [Feedforward and cost function](#section1)\n",
    "- [Regularized cost](#section2)\n",
    "- [Neural Network Gradient (Backpropagation)](#section4)\n",
    "- [Regularized Gradient](#section5)\n",
    "</div>"
   ]
  },
  {
   "cell_type": "markdown",
   "metadata": {},
   "source": [
    "Once you are done, call your `nnCostFunction` using the loaded set of parameters for `Theta1` and `Theta2`. "
   ]
  },
  {
   "cell_type": "code",
   "execution_count": 14,
   "metadata": {},
   "outputs": [
    {
     "name": "stdout",
     "output_type": "stream",
     "text": [
      "Cost at parameters (loaded from ex5weights): 0.287629 \n"
     ]
    }
   ],
   "source": [
    "lambda_ = 0\n",
    "J, _ = nnCostFunction(nn_params, input_layer_size, hidden_layer_size,\n",
    "                   num_labels, X, y, lambda_)\n",
    "print('Cost at parameters (loaded from ex5weights): %.6f ' % J)"
   ]
  },
  {
   "cell_type": "markdown",
   "metadata": {},
   "source": [
    "<a id=\"section2\"></a>\n",
    "### 1.4 Regularized cost function (10 pts)\n",
    "\n",
    "The cost function for neural networks with regularization is given by:\n",
    "\n",
    "\n",
    "$$ J(\\theta) = \\frac{1}{m} \\sum_{i=1}^{m}\\sum_{k=1}^{K} \\left[ - y_k^{(i)} \\log \\left( \\left( h_\\theta \\left( x^{(i)} \\right) \\right)_k \\right) - \\left( 1 - y_k^{(i)} \\right) \\log \\left( 1 - \\left( h_\\theta \\left( x^{(i)} \\right) \\right)_k \\right) \\right] + \\frac{\\lambda}{2 m} \\left[ \\sum_{j=1}^{25} \\sum_{k=1}^{400} \\left( \\Theta_{j,k}^{(1)} \\right)^2 + \\sum_{j=1}^{10} \\sum_{k=1}^{25} \\left( \\Theta_{j,k}^{(2)} \\right)^2 \\right] $$\n",
    "\n",
    "You can assume that the neural network will only have 3 layers - an input layer, a hidden layer and an output layer. However, your code should work for any number of input units, hidden units and outputs units. While we\n",
    "have explicitly listed the indices above for $\\Theta^{(1)}$ and $\\Theta^{(2)}$ for clarity, do note that your code should in general work with $\\Theta^{(1)}$ and $\\Theta^{(2)}$ of any size. Note that you should not be regularizing the terms that correspond to the bias. For the matrices `Theta1` and `Theta2`, this corresponds to the first column of each matrix. You should now add regularization to your cost function. Notice that you can first compute the unregularized cost function $J$ using your existing `nnCostFunction` and then later add the cost for the regularization terms.\n",
    "\n",
    "[Click here to go back to `nnCostFunction` for editing.](#nnCostFunction)"
   ]
  },
  {
   "cell_type": "markdown",
   "metadata": {},
   "source": [
    "Once you are done, the next cell will call your `nnCostFunction` using the loaded set of parameters for `Theta1` and `Theta2`, and $\\lambda = 1$. "
   ]
  },
  {
   "cell_type": "code",
   "execution_count": 15,
   "metadata": {},
   "outputs": [
    {
     "name": "stdout",
     "output_type": "stream",
     "text": [
      "Cost at parameters (loaded from ex5weights): 0.383770\n"
     ]
    }
   ],
   "source": [
    "# Weight regularization parameter (we set this to 1 here).\n",
    "lambda_ = 1\n",
    "J, _ = nnCostFunction(nn_params, input_layer_size, hidden_layer_size,\n",
    "                      num_labels, X, y, lambda_)\n",
    "\n",
    "print('Cost at parameters (loaded from ex5weights): %.6f' % J)"
   ]
  },
  {
   "cell_type": "markdown",
   "metadata": {},
   "source": [
    "## 2 Backpropagation\n",
    "\n",
    "In this part of the exercise, you will implement the backpropagation algorithm to compute the gradient for the neural network cost function. You will need to update the function `nnCostFunction` so that it returns an appropriate value for `grad`. Once you have computed the gradient, you will be able to train the neural network by minimizing the cost function $J(\\theta)$ using an advanced optimizer such as `scipy`'s `optimize.minimize`.\n",
    "You will first implement the backpropagation algorithm to compute the gradients for the parameters for the (unregularized) neural network. After you have verified that your gradient computation for the unregularized case is correct, you will implement the gradient for the regularized neural network."
   ]
  },
  {
   "cell_type": "markdown",
   "metadata": {},
   "source": [
    "<a id=\"section3\"></a>\n",
    "### 2.1 Sigmoid Gradient (5 pts)\n",
    "\n",
    "To help you get started with this part of the exercise, you will first implement\n",
    "the sigmoid gradient function. The gradient for the sigmoid function can be\n",
    "computed as\n",
    "\n",
    "$$ g'(z) = \\frac{d}{dz} g(z) = g(z)\\left(1-g(z)\\right) $$\n",
    "\n",
    "where\n",
    "\n",
    "$$ \\text{sigmoid}(z) = g(z) = \\frac{1}{1 + e^{-z}} $$\n",
    "\n",
    "Now complete the implementation of `sigmoidGradient` in the next cell.\n",
    "<a id=\"sigmoidGradient\"></a>"
   ]
  },
  {
   "cell_type": "code",
   "execution_count": 16,
   "metadata": {},
   "outputs": [],
   "source": [
    "def sigmoidGradient(z):\n",
    "    \"\"\"\n",
    "    Computes the gradient of the sigmoid function evaluated at z. \n",
    "    This should work regardless if z is a matrix or a vector. \n",
    "    In particular, if z is a vector or matrix, you should return\n",
    "    the gradient for each element.\n",
    "    \n",
    "    Parameters\n",
    "    ----------\n",
    "    z : array_like\n",
    "        A vector or matrix as input to the sigmoid function. \n",
    "    \n",
    "    Returns\n",
    "    --------\n",
    "    g : array_like\n",
    "        Gradient of the sigmoid function. Has the same shape as z. \n",
    "    \n",
    "    Instructions\n",
    "    ------------\n",
    "    Compute the gradient of the sigmoid function evaluated at\n",
    "    each value of z (z can be a matrix, vector or scalar).\n",
    "    \n",
    "    \n",
    "    \"\"\"\n",
    "\n",
    "    g = np.zeros(z.shape)\n",
    "\n",
    "    # ====================== YOUR CODE HERE ======================\n",
    "\n",
    "    g = sigmoid(z) * (1 - sigmoid(z))\n",
    "\n",
    "\n",
    "    # =============================================================\n",
    "    return g"
   ]
  },
  {
   "cell_type": "markdown",
   "metadata": {},
   "source": [
    "When you are done, the following cell call `sigmoidGradient` on a given vector `z`. Try testing a few values by calling `sigmoidGradient(z)`. For large values (both positive and negative) of z, the gradient should be close to 0. When $z = 0$, the gradient should be exactly 0.25. Your code should also work with vectors and matrices. For a matrix, your function should perform the sigmoid gradient function on every element."
   ]
  },
  {
   "cell_type": "code",
   "execution_count": 17,
   "metadata": {},
   "outputs": [
    {
     "name": "stdout",
     "output_type": "stream",
     "text": [
      "Sigmoid gradient evaluated at [-1 -0.5 0 0.5 1]:\n",
      "  \n",
      "[0.19661193 0.23500371 0.25       0.23500371 0.19661193]\n"
     ]
    }
   ],
   "source": [
    "z = np.array([-1, -0.5, 0, 0.5, 1])\n",
    "g = sigmoidGradient(z)\n",
    "print('Sigmoid gradient evaluated at [-1 -0.5 0 0.5 1]:\\n  ')\n",
    "print(g)"
   ]
  },
  {
   "cell_type": "markdown",
   "metadata": {},
   "source": [
    "### 2.2 Random Initialization (5 pts)\n",
    "\n",
    "When training neural networks, it is important to randomly initialize the parameters for symmetry breaking. One effective strategy for random initialization is to randomly select values for $\\Theta^{(l)}$ uniformly in the range $[-\\epsilon_{init}, \\epsilon_{init}]$. You should use $\\epsilon_{init} = 0.12$. This range of values ensures that the parameters are kept small and makes the learning more efficient.\n",
    "\n",
    "<div class=\"alert alert-box alert-warning\">\n",
    "One effective strategy for choosing $\\epsilon_{init}$ is to base it on the number of units in the network. A good choice of $\\epsilon_{init}$ is $\\epsilon_{init} = \\frac{\\sqrt{6}}{\\sqrt{L_{in} + L_{out}}}$ where $L_{in} = s_l$ and $L_{out} = s_{l+1}$ are the number of units in the layers adjacent to $\\Theta^{l}$.\n",
    "</div>\n",
    "\n",
    "Your job is to complete the function `randInitializeWeights` to initialize the weights for $\\Theta$. Modify the function by filling in the following code:\n",
    "\n",
    "```python\n",
    "# Randomly initialize the weights to small values\n",
    "W = np.random.rand(L_out, 1 + L_in) * 2 * epsilon_init - epsilon_init\n",
    "```\n",
    "Note that we give the function an argument for $\\epsilon$ with default value `epsilon_init = 0.12`."
   ]
  },
  {
   "cell_type": "code",
   "execution_count": 18,
   "metadata": {},
   "outputs": [],
   "source": [
    "def randInitializeWeights(L_in, L_out, epsilon_init=0.12):\n",
    "    \"\"\"\n",
    "    Randomly initialize the weights of a layer in a neural network.\n",
    "    \n",
    "    Parameters\n",
    "    ----------\n",
    "    L_in : int\n",
    "        Number of incomming connections.\n",
    "    \n",
    "    L_out : int\n",
    "        Number of outgoing connections. \n",
    "    \n",
    "    epsilon_init : float, optional\n",
    "        Range of values which the weight can take from a uniform \n",
    "        distribution.\n",
    "    \n",
    "    Returns\n",
    "    -------\n",
    "    W : array_like\n",
    "        The weight initialiatized to random values.  Note that W should\n",
    "        be set to a matrix of size(L_out, 1 + L_in) as\n",
    "        the first column of W handles the \"bias\" terms.\n",
    "        \n",
    "    Instructions\n",
    "    ------------\n",
    "    Initialize W randomly so that we break the symmetry while training\n",
    "    the neural network. Note that the first column of W corresponds \n",
    "    to the parameters for the bias unit.\n",
    "    \"\"\"\n",
    "\n",
    "    # You need to return the following variables correctly \n",
    "    W = np.zeros((L_out, 1 + L_in))\n",
    "\n",
    "    # ====================== YOUR CODE HERE ======================\n",
    "\n",
    "    W = np.random.rand(L_out, 1 + L_in) * (2 * epsilon_init) - epsilon_init\n",
    "\n",
    "\n",
    "    # ============================================================\n",
    "    return W"
   ]
  },
  {
   "cell_type": "markdown",
   "metadata": {},
   "source": [
    "Execute the following cell to initialize the weights for the 2 layers in the neural network using the `randInitializeWeights` function."
   ]
  },
  {
   "cell_type": "code",
   "execution_count": 19,
   "metadata": {},
   "outputs": [
    {
     "name": "stdout",
     "output_type": "stream",
     "text": [
      "Initializing Neural Network Parameters ...\n"
     ]
    }
   ],
   "source": [
    "print('Initializing Neural Network Parameters ...')\n",
    "\n",
    "initial_Theta1 = randInitializeWeights(input_layer_size, hidden_layer_size)\n",
    "initial_Theta2 = randInitializeWeights(hidden_layer_size, num_labels)\n",
    "\n",
    "# Unroll parameters\n",
    "initial_nn_params = np.concatenate([initial_Theta1.ravel(), initial_Theta2.ravel()], axis=0)"
   ]
  },
  {
   "cell_type": "markdown",
   "metadata": {},
   "source": [
    "<a id=\"section4\"></a>\n",
    "### 2.3 Backpropagation (20 pts)\n",
    "\n",
    "![](Figures/ex5-backpropagation.png)\n",
    "\n",
    "Now, you will implement the backpropagation algorithm. Recall that the intuition behind the backpropagation algorithm is as follows. Given a training example $(x^{(t)}, y^{(t)})$, we will first run a “forward pass” to compute all the activations throughout the network, including the output value of the hypothesis $h_\\theta(x)$. Then, for each node $j$ in layer $l$, we would like to compute an “error term” $\\delta_j^{(l)}$ that measures how much that node was “responsible” for any errors in our output.\n",
    "\n",
    "For an output node, we can directly measure the difference between the network’s activation and the true target value, and use that to define $\\delta_j^{(3)}$ (since layer 3 is the output layer). For the hidden units, you will compute $\\delta_j^{(l)}$ based on a weighted average of the error terms of the nodes in layer $(l+1)$. In detail, here is the backpropagation algorithm (also depicted in the figure above). You should implement steps 1 to 4 in a loop that processes one example at a time. Concretely, you should implement a for-loop `for t in range(m)` and place steps 1-4 below inside the for-loop, with the $t^{th}$ iteration performing the calculation on the $t^{th}$ training example $(x^{(t)}, y^{(t)})$. Step 5 will divide the accumulated gradients by $m$ to obtain the gradients for the neural network cost function.\n",
    "\n",
    "1. Set the input layer’s values $(a^{(1)})$ to the $t^{th }$training example $x^{(t)}$. Perform a feedforward pass, computing the activations $(z^{(2)}, a^{(2)}, z^{(3)}, a^{(3)})$ for layers 2 and 3. Note that you need to add a `+1` term to ensure that the vectors of activations for layers $a^{(1)}$ and $a^{(2)}$ also include the bias unit. In `numpy`, if a 1 is a column matrix, adding one corresponds to `a_1 = np.concatenate([np.ones((m, 1)), a_1], axis=1)`.\n",
    "\n",
    "1. For each output unit $k$ in layer 3 (the output layer), set \n",
    "$$\\delta_k^{(3)} = \\left(a_k^{(3)} - y_k \\right)$$\n",
    "where $y_k \\in \\{0, 1\\}$ indicates whether the current training example belongs to class $k$ $(y_k = 1)$, or if it belongs to a different class $(y_k = 0)$. You may find logical arrays helpful for this task (explained in the previous programming exercise).\n",
    "\n",
    "1. For the hidden layer $l = 2$, set \n",
    "$$ \\delta^{(2)} = \\left( \\Theta^{(2)} \\right)^T \\delta^{(3)} * g'\\left(z^{(2)} \\right)$$\n",
    "Note that the symbol $*$ performs element wise multiplication in `numpy`.\n",
    "\n",
    "1. Accumulate the gradient from this example using the following formula. Note that you should skip or remove $\\delta_0^{(2)}$. In `numpy`, removing $\\delta_0^{(2)}$ corresponds to `delta_2 = delta_2[1:]`.\n",
    "$$ \\Delta^{(l)} = \\Delta^{(l)} + \\delta^{(l+1)} (a^{(l)})^{(T)} $$\n",
    "\n",
    "1. Obtain the (unregularized) gradient for the neural network cost function by dividing the accumulated gradients by $\\frac{1}{m}$:\n",
    "$$ \\frac{\\partial}{\\partial \\Theta_{ij}^{(l)}} J(\\Theta) = D_{ij}^{(l)} = \\frac{1}{m} \\Delta_{ij}^{(l)}$$\n",
    "\n",
    "<div class=\"alert alert-box alert-warning\">\n",
    "**Python/Numpy tip**: You should implement the backpropagation algorithm only after you have successfully completed the feedforward and cost functions. While implementing the backpropagation alogrithm, it is often useful to use the `shape` function to print out the shapes of the variables you are working with if you run into dimension mismatch errors.\n",
    "</div>\n",
    "\n",
    "[Click here to go back and update the function `nnCostFunction` with the backpropagation algorithm](#nnCostFunction).\n"
   ]
  },
  {
   "cell_type": "markdown",
   "metadata": {},
   "source": [
    "After you have implemented the backpropagation algorithm, we will proceed to run gradient checking on your implementation. The gradient check will allow you to increase your confidence that your code is\n",
    "computing the gradients correctly.\n",
    "\n",
    "### 2.4  Gradient checking (5 pts)\n",
    "\n",
    "In your neural network, you are minimizing the cost function $J(\\Theta)$. To perform gradient checking on your parameters, you can imagine “unrolling” the parameters $\\Theta^{(1)}$, $\\Theta^{(2)}$ into a long vector $\\theta$. By doing so, you can think of the cost function being $J(\\Theta)$ instead and use the following gradient checking procedure.\n",
    "\n",
    "Suppose you have a function $f_i(\\theta)$ that purportedly computes $\\frac{\\partial}{\\partial \\theta_i} J(\\theta)$; you’d like to check if $f_i$ is outputting correct derivative values.\n",
    "\n",
    "$$\n",
    "\\text{Let } \\theta^{(i+)} = \\theta + \\begin{bmatrix} 0 \\\\ 0 \\\\ \\vdots \\\\ \\epsilon \\\\ \\vdots \\\\ 0 \\end{bmatrix}\n",
    "\\quad \\text{and} \\quad \\theta^{(i-)} = \\theta - \\begin{bmatrix} 0 \\\\ 0 \\\\ \\vdots \\\\ \\epsilon \\\\ \\vdots \\\\ 0 \\end{bmatrix}\n",
    "$$\n",
    "\n",
    "So, $\\theta^{(i+)}$ is the same as $\\theta$, except its $i^{th}$ element has been incremented by $\\epsilon$. Similarly, $\\theta^{(i−)}$ is the corresponding vector with the $i^{th}$ element decreased by $\\epsilon$. You can now numerically verify $f_i(\\theta)$’s correctness by checking, for each $i$, that:\n",
    "\n",
    "$$ f_i\\left( \\theta \\right) \\approx \\frac{J\\left( \\theta^{(i+)}\\right) - J\\left( \\theta^{(i-)} \\right)}{2\\epsilon} $$\n",
    "\n",
    "The degree to which these two values should approximate each other will depend on the details of $J$. But assuming $\\epsilon = 10^{-4}$, you’ll usually find that the left- and right-hand sides of the above will agree to at least 4 significant digits (and often many more).\n",
    "\n",
    "Next, you need to define the function to compute the numerical gradient in `compute_numerial_gradient`. \n",
    "\n",
    "In the next cell we will run the provided function `check_nn_gradients` which will create a small neural network and dataset that will be used for checking your gradients. If your backpropagation implementation is correct,\n",
    "you should see a relative difference that is less than 1e-9.\n",
    "\n",
    "<div class=\"alert alert-box alert-success\">\n",
    "**Practical Tip**: When performing gradient checking, it is much more efficient to use a small neural network with a relatively small number of input units and hidden units, thus having a relatively small number\n",
    "of parameters. Each dimension of $\\theta$ requires two evaluations of the cost function and this can be expensive. In the function `check_nn_gradients`, our code creates a small random model and dataset which is used with `compute_numerial_gradient` for gradient checking. Furthermore, after you are confident that your gradient computations are correct, you should turn off gradient checking before running your learning algorithm.\n",
    "</div>\n",
    "\n",
    "<div class=\"alert alert-box alert-success\">\n",
    "**Practical Tip:** Gradient checking works for any function where you are computing the cost and the gradient. Concretely, you can use the same `compute_numerial_gradient` function to check if your gradient implementations for the other exercises are correct too (e.g., logistic regression’s cost function).\n",
    "</div>"
   ]
  },
  {
   "cell_type": "code",
   "execution_count": 20,
   "metadata": {},
   "outputs": [],
   "source": [
    "def compute_numerial_gradient(cost_func, theta):\n",
    "    numgrad = np.zeros(theta.size)\n",
    "    perturb = np.zeros(theta.size)\n",
    "\n",
    "    e = 1e-4\n",
    "\n",
    "    # ====================== YOUR CODE HERE ======================\n",
    "    \n",
    "    for i in range(theta.size):\n",
    "        perturb[i] = e\n",
    "        \n",
    "        cost1, grad1 = cost_func(theta - perturb)\n",
    "        cost2, grad2 = cost_func(theta + perturb)\n",
    "        \n",
    "        numgrad[i] = (cost2 - cost1) / (2 * e)\n",
    "        perturb[i] = 0\n",
    "        \n",
    "\n",
    "\n",
    "    # ============================================================\n",
    "    \n",
    "    \n",
    "\n",
    "    return numgrad"
   ]
  },
  {
   "cell_type": "code",
   "execution_count": 21,
   "metadata": {},
   "outputs": [],
   "source": [
    "def debug_initialize_weights(fan_out, fan_in):\n",
    "    w = np.zeros((fan_out, 1 + fan_in))\n",
    "\n",
    "    w = np.sin(np.arange(w.size)).reshape(w.shape) / 10\n",
    "\n",
    "    return w"
   ]
  },
  {
   "cell_type": "code",
   "execution_count": 22,
   "metadata": {},
   "outputs": [],
   "source": [
    "def check_nn_gradients(lmd):\n",
    "\n",
    "    input_layer_size = 3\n",
    "    hidden_layer_size = 5\n",
    "    num_labels = 3\n",
    "    m = 5\n",
    "\n",
    "    # We generatesome 'random' test data\n",
    "    theta1 = debug_initialize_weights(hidden_layer_size, input_layer_size)\n",
    "    theta2 = debug_initialize_weights(num_labels, hidden_layer_size)\n",
    "\n",
    "    # Reusing debugInitializeWeights to genete X\n",
    "    X = debug_initialize_weights(m, input_layer_size - 1)\n",
    "    y = 1 + np.mod(np.arange(1, m + 1), num_labels)\n",
    "\n",
    "    # Unroll parameters\n",
    "    nn_params = np.concatenate([theta1.flatten(), theta2.flatten()])\n",
    "\n",
    "    def cost_func(p):\n",
    "        return nnCostFunction(p, input_layer_size, hidden_layer_size, num_labels, X, y, lmd)\n",
    "    \n",
    "    cost, grad = cost_func(nn_params)\n",
    "    numgrad = compute_numerial_gradient(cost_func, nn_params)\n",
    "\n",
    "    print(np.c_[grad, numgrad])"
   ]
  },
  {
   "cell_type": "code",
   "execution_count": 23,
   "metadata": {},
   "outputs": [
    {
     "name": "stdout",
     "output_type": "stream",
     "text": [
      "[[ 9.01303866e-03  9.01303866e-03]\n",
      " [-6.08047127e-05 -6.08047124e-05]\n",
      " [-6.96665817e-06 -6.96665836e-06]\n",
      " [ 5.32765097e-05  5.32765121e-05]\n",
      " [ 1.17193332e-02  1.17193332e-02]\n",
      " [-7.05495376e-05 -7.05495373e-05]\n",
      " [ 1.66652194e-04  1.66652196e-04]\n",
      " [ 2.50634667e-04  2.50634669e-04]\n",
      " [ 3.66087511e-03  3.66087511e-03]\n",
      " [-1.54510225e-05 -1.54510182e-05]\n",
      " [ 1.86817175e-04  1.86817173e-04]\n",
      " [ 2.17326523e-04  2.17326523e-04]\n",
      " [-7.76550109e-03 -7.76550108e-03]\n",
      " [ 5.38947948e-05  5.38947931e-05]\n",
      " [ 3.53029178e-05  3.53029161e-05]\n",
      " [-1.57462990e-05 -1.57462976e-05]\n",
      " [-1.20637760e-02 -1.20637760e-02]\n",
      " [ 7.36351996e-05  7.36352002e-05]\n",
      " [-1.48712777e-04 -1.48712773e-04]\n",
      " [-2.34334912e-04 -2.34334914e-04]\n",
      " [ 3.02286353e-01  3.02286353e-01]\n",
      " [ 1.51010770e-01  1.51010770e-01]\n",
      " [ 1.45233242e-01  1.45233242e-01]\n",
      " [ 1.58998192e-01  1.58998192e-01]\n",
      " [ 1.46779086e-01  1.46779086e-01]\n",
      " [ 1.48987769e-01  1.48987769e-01]\n",
      " [ 9.95931723e-02  9.95931723e-02]\n",
      " [ 4.96122519e-02  4.96122519e-02]\n",
      " [ 4.83540132e-02  4.83540132e-02]\n",
      " [ 5.18660079e-02  5.18660079e-02]\n",
      " [ 4.85328991e-02  4.85328991e-02]\n",
      " [ 4.93783641e-02  4.93783641e-02]\n",
      " [ 9.69324215e-02  9.69324215e-02]\n",
      " [ 4.89006564e-02  4.89006564e-02]\n",
      " [ 4.65577354e-02  4.65577354e-02]\n",
      " [ 5.05267299e-02  5.05267299e-02]\n",
      " [ 4.76803471e-02  4.76803471e-02]\n",
      " [ 4.74319072e-02  4.74319072e-02]]\n"
     ]
    }
   ],
   "source": [
    "lmd = 0\n",
    "check_nn_gradients(lmd)"
   ]
  },
  {
   "cell_type": "markdown",
   "metadata": {},
   "source": [
    "<a id=\"section5\"></a>\n",
    "### 2.5 Regularized Neural Network (10 pts)\n",
    "\n",
    "After you have successfully implemented the backpropagation algorithm, you will add regularization to the gradient. To account for regularization, it turns out that you can add this as an additional term *after* computing the gradients using backpropagation.\n",
    "\n",
    "Specifically, after you have computed $\\Delta_{ij}^{(l)}$ using backpropagation, you should add regularization using\n",
    "\n",
    "$$ \\begin{align} \n",
    "& \\frac{\\partial}{\\partial \\Theta_{ij}^{(l)}} J(\\Theta) = D_{ij}^{(l)} = \\frac{1}{m} \\Delta_{ij}^{(l)} & \\qquad \\text{for } j = 0 \\\\\n",
    "& \\frac{\\partial}{\\partial \\Theta_{ij}^{(l)}} J(\\Theta) = D_{ij}^{(l)} = \\frac{1}{m} \\Delta_{ij}^{(l)} + \\frac{\\lambda}{m} \\Theta_{ij}^{(l)} & \\qquad \\text{for } j \\ge 1\n",
    "\\end{align}\n",
    "$$\n",
    "\n",
    "Note that you should *not* be regularizing the first column of $\\Theta^{(l)}$ which is used for the bias term. Furthermore, in the parameters $\\Theta_{ij}^{(l)}$, $i$ is indexed starting from 1, and $j$ is indexed starting from 0. Thus, \n",
    "\n",
    "$$\n",
    "\\Theta^{(l)} = \\begin{bmatrix}\n",
    "\\Theta_{1,0}^{(i)} & \\Theta_{1,1}^{(l)} & \\cdots \\\\\n",
    "\\Theta_{2,0}^{(i)} & \\Theta_{2,1}^{(l)} & \\cdots \\\\\n",
    "\\vdots &  ~ & \\ddots\n",
    "\\end{bmatrix}\n",
    "$$\n",
    "\n",
    "[Now modify your code that computes grad in `nnCostFunction` to account for regularization.](#nnCostFunction)\n",
    "\n",
    "After you are done, the following cell runs gradient checking on your implementation. If your code is correct, you should expect to see a relative difference that is less than 1e-9."
   ]
  },
  {
   "cell_type": "code",
   "execution_count": 24,
   "metadata": {},
   "outputs": [
    {
     "name": "stdout",
     "output_type": "stream",
     "text": [
      "[[ 0.00901304  0.00901304]\n",
      " [ 0.05042745  0.05042745]\n",
      " [ 0.05455088  0.05455088]\n",
      " [ 0.00852048  0.00852048]\n",
      " [ 0.01171933  0.01171933]\n",
      " [-0.05760601 -0.05760601]\n",
      " [-0.01659828 -0.01659828]\n",
      " [ 0.03966983  0.03966983]\n",
      " [ 0.00366088  0.00366088]\n",
      " [ 0.02471166  0.02471166]\n",
      " [-0.03245445 -0.03245445]\n",
      " [-0.05978209 -0.05978209]\n",
      " [-0.0077655  -0.0077655 ]\n",
      " [ 0.02526392  0.02526392]\n",
      " [ 0.05947174  0.05947174]\n",
      " [ 0.03900152  0.03900152]\n",
      " [-0.01206378 -0.01206378]\n",
      " [-0.05761021 -0.05761021]\n",
      " [-0.04520795 -0.04520795]\n",
      " [ 0.0087583   0.0087583 ]\n",
      " [ 0.30228635  0.30228635]\n",
      " [ 0.20149903  0.20149903]\n",
      " [ 0.19979109  0.19979109]\n",
      " [ 0.16746539  0.16746539]\n",
      " [ 0.10137094  0.10137094]\n",
      " [ 0.09145231  0.09145231]\n",
      " [ 0.09959317  0.09959317]\n",
      " [ 0.08903145  0.08903145]\n",
      " [ 0.10771551  0.10771551]\n",
      " [ 0.07659312  0.07659312]\n",
      " [ 0.01589163  0.01589163]\n",
      " [-0.01062105 -0.01062105]\n",
      " [ 0.09693242  0.09693242]\n",
      " [ 0.07411068  0.07411068]\n",
      " [ 0.10599418  0.10599418]\n",
      " [ 0.089544    0.089544  ]\n",
      " [ 0.03040615  0.03040615]\n",
      " [-0.01025194 -0.01025194]]\n",
      "\n",
      "\n",
      "Cost at (fixed) debugging parameters (w/ lambda = 3.000000): 0.576051 \n"
     ]
    }
   ],
   "source": [
    "#  Check gradients by running check_nn_gradients\n",
    "lambda_ = 3\n",
    "check_nn_gradients(lambda_)\n",
    "\n",
    "# Also output the costFunction debugging values\n",
    "debug_J, _  = nnCostFunction(nn_params, input_layer_size,\n",
    "                          hidden_layer_size, num_labels, X, y, lambda_)\n",
    "\n",
    "print('\\n\\nCost at (fixed) debugging parameters (w/ lambda = %f): %f ' % (lambda_, debug_J))"
   ]
  },
  {
   "cell_type": "markdown",
   "metadata": {},
   "source": [
    "### 2.6 Learning parameters using `scipy.optimize.minimize` (10 pts)\n",
    "\n",
    "After you have successfully implemented the neural network cost function\n",
    "and gradient computation, the next step we will use `scipy`'s minimization to learn a good set parameters."
   ]
  },
  {
   "cell_type": "code",
   "execution_count": 25,
   "metadata": {},
   "outputs": [],
   "source": [
    "#  After you have completed the assignment, change the maxiter to a larger\n",
    "#  value to see how more training helps.\n",
    "options= {'maxiter': 100}\n",
    "\n",
    "#  You should also try different values of lambda\n",
    "lambda_ = 1\n",
    "\n",
    "# Create \"short hand\" for the cost function to be minimized\n",
    "costFunction = lambda p: nnCostFunction(p, input_layer_size,\n",
    "                                        hidden_layer_size,\n",
    "                                        num_labels, X, y, lambda_)\n",
    "\n",
    "# Now, costFunction is a function that takes in only one argument\n",
    "# (the neural network parameters)\n",
    "\n",
    "    # ====================== YOUR CODE HERE ======================\n",
    "\n",
    "res = optimize.minimize(costFunction,\n",
    "                        initial_nn_params,\n",
    "                        jac=True,\n",
    "                        method='TNC',\n",
    "                        options=options)\n",
    "\n",
    "\n",
    "    # ============================================================\n",
    "\n",
    "# get the solution of the optimization\n",
    "nn_params = res.x\n",
    "        \n",
    "# Obtain Theta1 and Theta2 back from nn_params\n",
    "Theta1 = np.reshape(nn_params[:hidden_layer_size * (input_layer_size + 1)],\n",
    "                    (hidden_layer_size, (input_layer_size + 1)))\n",
    "\n",
    "Theta2 = np.reshape(nn_params[(hidden_layer_size * (input_layer_size + 1)):],\n",
    "                    (num_labels, (hidden_layer_size + 1)))"
   ]
  },
  {
   "cell_type": "markdown",
   "metadata": {},
   "source": [
    "After the training completes, we will proceed to report the training accuracy of your classifier by computing the percentage of examples it got correct. If your implementation is correct, you should see a reported\n",
    "training accuracy of about 95.3% (this may vary by about 1% due to the random initialization). It is possible to get higher training accuracies by training the neural network for more iterations. We encourage you to try\n",
    "training the neural network for more iterations (e.g., set `maxiter` to 400) and also vary the regularization parameter $\\lambda$. With the right learning settings, it is possible to get the neural network to perfectly fit the training set."
   ]
  },
  {
   "cell_type": "code",
   "execution_count": 26,
   "metadata": {},
   "outputs": [],
   "source": [
    "def predict(theta1, theta2, x):\n",
    "    m = x.shape[0]\n",
    "\n",
    "    x = np.c_[np.ones(m), x]\n",
    "    h1 = sigmoid(np.dot(x, theta1.T))\n",
    "    h1 = np.c_[np.ones(h1.shape[0]), h1]\n",
    "    h2 = sigmoid(np.dot(h1, theta2.T))\n",
    "    p = np.argmax(h2, axis=1) + 1\n",
    "\n",
    "    return p"
   ]
  },
  {
   "cell_type": "code",
   "execution_count": 27,
   "metadata": {},
   "outputs": [],
   "source": [
    "pred = predict(Theta1, Theta2, X)"
   ]
  },
  {
   "cell_type": "code",
   "execution_count": 28,
   "metadata": {},
   "outputs": [
    {
     "name": "stdout",
     "output_type": "stream",
     "text": [
      "Training set accuracy: 96.78\n"
     ]
    }
   ],
   "source": [
    "print('Training set accuracy: {}'.format(np.mean(pred == y)*100))"
   ]
  },
  {
   "cell_type": "markdown",
   "metadata": {},
   "source": [
    "## 3 Visualizing the Hidden Layer\n",
    "\n",
    "One way to understand what your neural network is learning is to visualize what the representations captured by the hidden units. Informally, given a particular hidden unit, one way to visualize what it computes is to find an input $x$ that will cause it to activate (that is, to have an activation value \n",
    "($a_i^{(l)}$) close to 1). For the neural network you trained, notice that the $i^{th}$ row of $\\Theta^{(1)}$ is a 401-dimensional vector that represents the parameter for the $i^{th}$ hidden unit. If we discard the bias term, we get a 400 dimensional vector that represents the weights from each input pixel to the hidden unit.\n",
    "\n",
    "Thus, one way to visualize the “representation” captured by the hidden unit is to reshape this 400 dimensional vector into a 20 × 20 image and display it (It turns out that this is equivalent to finding the input that gives the highest activation for the hidden unit, given a “norm” constraint on the input (i.e., $||x||_2 \\le 1$)). \n",
    "\n",
    "The next cell does this by using the `display_data` function and it will show you an image with 25 units,\n",
    "each corresponding to one hidden unit in the network. In your trained network, you should find that the hidden units corresponds roughly to detectors that look for strokes and other patterns in the input."
   ]
  },
  {
   "cell_type": "code",
   "execution_count": 29,
   "metadata": {
    "scrolled": true
   },
   "outputs": [
    {
     "data": {
      "image/png": "[encoded data removed]",
      "text/plain": [
       "<Figure size 432x288 with 1 Axes>"
      ]
     },
     "metadata": {
      "needs_background": "light"
     },
     "output_type": "display_data"
    }
   ],
   "source": [
    "display_data(Theta1[:, 1:])"
   ]
  },
  {
   "cell_type": "markdown",
   "metadata": {},
   "source": [
    "<a id=\"section7\"></a>\n",
    "## 4 Scikit-learn (20pt)\n",
    "\n",
    "In this part, you need to use scikit-learn to train a NN model, and compare with the ones you have found before. You should also verify the accuracy scores. "
   ]
  },
  {
   "cell_type": "code",
   "execution_count": 30,
   "metadata": {},
   "outputs": [],
   "source": [
    "import tensorflow as tf\n",
    "import keras"
   ]
  },
  {
   "cell_type": "code",
   "execution_count": 31,
   "metadata": {},
   "outputs": [
    {
     "data": {
      "text/plain": [
       "(array([[0., 0., 0., ..., 0., 0., 0.],\n",
       "        [0., 0., 0., ..., 0., 0., 0.],\n",
       "        [0., 0., 0., ..., 0., 0., 0.],\n",
       "        ...,\n",
       "        [0., 0., 0., ..., 0., 0., 0.],\n",
       "        [0., 0., 0., ..., 0., 0., 0.],\n",
       "        [0., 0., 0., ..., 0., 0., 0.]]),\n",
       " array([10, 10, 10, ...,  9,  9,  9], dtype=uint8))"
      ]
     },
     "execution_count": 31,
     "metadata": {},
     "output_type": "execute_result"
    }
   ],
   "source": [
    "X, y"
   ]
  },
  {
   "cell_type": "code",
   "execution_count": 32,
   "metadata": {},
   "outputs": [
    {
     "data": {
      "text/plain": [
       "((5000, 400), (5000,))"
      ]
     },
     "execution_count": 32,
     "metadata": {},
     "output_type": "execute_result"
    }
   ],
   "source": [
    "X.shape, y.shape"
   ]
  },
  {
   "cell_type": "code",
   "execution_count": 33,
   "metadata": {},
   "outputs": [
    {
     "data": {
      "text/plain": [
       "array([ 1,  2,  3,  4,  5,  6,  7,  8,  9, 10], dtype=uint8)"
      ]
     },
     "execution_count": 33,
     "metadata": {},
     "output_type": "execute_result"
    }
   ],
   "source": [
    "np.unique(y)"
   ]
  },
  {
   "cell_type": "markdown",
   "metadata": {},
   "source": [
    "convert class 10 of y to class 0"
   ]
  },
  {
   "cell_type": "code",
   "execution_count": 34,
   "metadata": {},
   "outputs": [
    {
     "data": {
      "text/plain": [
       "array([0, 0, 0, ..., 9, 9, 9], dtype=uint8)"
      ]
     },
     "execution_count": 34,
     "metadata": {},
     "output_type": "execute_result"
    }
   ],
   "source": [
    "y = y % 10\n",
    "y"
   ]
  },
  {
   "cell_type": "code",
   "execution_count": 35,
   "metadata": {},
   "outputs": [
    {
     "data": {
      "text/plain": [
       "array([1., 0., 0., 0., 0., 0., 0., 0., 0., 0.], dtype=float32)"
      ]
     },
     "execution_count": 35,
     "metadata": {},
     "output_type": "execute_result"
    }
   ],
   "source": [
    "y = keras.utils.to_categorical(y, num_classes = 10)\n",
    "y[0]"
   ]
  },
  {
   "cell_type": "code",
   "execution_count": 36,
   "metadata": {},
   "outputs": [
    {
     "data": {
      "text/plain": [
       "array([0., 0., 0., 0., 0., 0., 1., 0., 0., 0.], dtype=float32)"
      ]
     },
     "execution_count": 36,
     "metadata": {},
     "output_type": "execute_result"
    }
   ],
   "source": [
    "y[3345]"
   ]
  },
  {
   "cell_type": "code",
   "execution_count": 37,
   "metadata": {},
   "outputs": [],
   "source": [
    "from sklearn.model_selection import train_test_split\n",
    "\n",
    "X_train, X_test, y_train, y_test = train_test_split(X, y, stratify = y, test_size = 0.2)"
   ]
  },
  {
   "cell_type": "code",
   "execution_count": 38,
   "metadata": {},
   "outputs": [
    {
     "data": {
      "text/plain": [
       "((4000, 400), (1000, 400), (4000, 10), (1000, 10))"
      ]
     },
     "execution_count": 38,
     "metadata": {},
     "output_type": "execute_result"
    }
   ],
   "source": [
    "X_train.shape, X_test.shape, y_train.shape, y_test.shape"
   ]
  },
  {
   "cell_type": "code",
   "execution_count": 39,
   "metadata": {},
   "outputs": [],
   "source": [
    "from keras.models import Sequential\n",
    "from keras.layers import Dense\n",
    "from keras.layers import Dropout\n",
    "\n",
    "ann = Sequential()\n",
    "ann.add(Dense(1024, activation='relu', input_shape=(400,)))\n",
    "ann.add(Dense(1024, activation='relu'))\n",
    "ann.add(Dense(10, activation='softmax'))"
   ]
  },
  {
   "cell_type": "code",
   "execution_count": 40,
   "metadata": {},
   "outputs": [
    {
     "name": "stdout",
     "output_type": "stream",
     "text": [
      "Model: \"sequential\"\n",
      "_________________________________________________________________\n",
      "Layer (type)                 Output Shape              Param #   \n",
      "=================================================================\n",
      "dense (Dense)                (None, 1024)              410624    \n",
      "_________________________________________________________________\n",
      "dense_1 (Dense)              (None, 1024)              1049600   \n",
      "_________________________________________________________________\n",
      "dense_2 (Dense)              (None, 10)                10250     \n",
      "=================================================================\n",
      "Total params: 1,470,474\n",
      "Trainable params: 1,470,474\n",
      "Non-trainable params: 0\n",
      "_________________________________________________________________\n"
     ]
    }
   ],
   "source": [
    "ann.summary()"
   ]
  },
  {
   "cell_type": "code",
   "execution_count": 41,
   "metadata": {},
   "outputs": [],
   "source": [
    "ann.compile(optimizer = 'adam', loss = 'categorical_crossentropy', metrics = ['accuracy'])"
   ]
  },
  {
   "cell_type": "code",
   "execution_count": 42,
   "metadata": {},
   "outputs": [
    {
     "name": "stdout",
     "output_type": "stream",
     "text": [
      "Epoch 1/20\n",
      "29/29 [==============================] - 1s 27ms/step - loss: 0.7476 - accuracy: 0.7867 - val_loss: 0.5332 - val_accuracy: 0.8675\n",
      "Epoch 2/20\n",
      "29/29 [==============================] - 0s 17ms/step - loss: 0.2635 - accuracy: 0.9225 - val_loss: 0.3346 - val_accuracy: 0.9025\n",
      "Epoch 3/20\n",
      "29/29 [==============================] - 0s 17ms/step - loss: 0.1573 - accuracy: 0.9572 - val_loss: 0.3109 - val_accuracy: 0.9100\n",
      "Epoch 4/20\n",
      "29/29 [==============================] - 0s 16ms/step - loss: 0.0982 - accuracy: 0.9756 - val_loss: 0.2929 - val_accuracy: 0.9175\n",
      "Epoch 5/20\n",
      "29/29 [==============================] - 0s 17ms/step - loss: 0.0676 - accuracy: 0.9836 - val_loss: 0.3252 - val_accuracy: 0.9150\n",
      "Epoch 6/20\n",
      "29/29 [==============================] - 0s 17ms/step - loss: 0.0449 - accuracy: 0.9897 - val_loss: 0.3163 - val_accuracy: 0.9175\n",
      "Epoch 7/20\n",
      "29/29 [==============================] - 1s 17ms/step - loss: 0.0318 - accuracy: 0.9928 - val_loss: 0.3050 - val_accuracy: 0.9250\n",
      "Epoch 8/20\n",
      "29/29 [==============================] - 0s 17ms/step - loss: 0.0179 - accuracy: 0.9972 - val_loss: 0.2973 - val_accuracy: 0.9275\n",
      "Epoch 9/20\n",
      "29/29 [==============================] - 1s 18ms/step - loss: 0.0181 - accuracy: 0.9964 - val_loss: 0.3057 - val_accuracy: 0.9225\n",
      "Epoch 10/20\n",
      "29/29 [==============================] - 1s 18ms/step - loss: 0.0114 - accuracy: 0.9989 - val_loss: 0.3617 - val_accuracy: 0.9200\n",
      "Epoch 11/20\n",
      "29/29 [==============================] - 1s 18ms/step - loss: 0.0057 - accuracy: 0.9997 - val_loss: 0.3369 - val_accuracy: 0.9300\n",
      "Epoch 12/20\n",
      "29/29 [==============================] - 1s 17ms/step - loss: 0.0036 - accuracy: 0.9997 - val_loss: 0.3417 - val_accuracy: 0.9200\n",
      "Epoch 13/20\n",
      "29/29 [==============================] - 1s 18ms/step - loss: 0.0019 - accuracy: 1.0000 - val_loss: 0.3573 - val_accuracy: 0.9200\n",
      "Epoch 14/20\n",
      "29/29 [==============================] - 1s 18ms/step - loss: 0.0015 - accuracy: 1.0000 - val_loss: 0.3640 - val_accuracy: 0.9225\n",
      "Epoch 15/20\n",
      "29/29 [==============================] - 1s 22ms/step - loss: 0.0014 - accuracy: 1.0000 - val_loss: 0.3709 - val_accuracy: 0.9200\n",
      "Epoch 16/20\n",
      "29/29 [==============================] - 0s 17ms/step - loss: 0.0012 - accuracy: 1.0000 - val_loss: 0.3745 - val_accuracy: 0.9225\n",
      "Epoch 17/20\n",
      "29/29 [==============================] - 1s 20ms/step - loss: 0.0011 - accuracy: 1.0000 - val_loss: 0.3835 - val_accuracy: 0.9175\n",
      "Epoch 18/20\n",
      "29/29 [==============================] - 1s 20ms/step - loss: 8.9290e-04 - accuracy: 1.0000 - val_loss: 0.3864 - val_accuracy: 0.9200\n",
      "Epoch 19/20\n",
      "29/29 [==============================] - 1s 22ms/step - loss: 7.8769e-04 - accuracy: 1.0000 - val_loss: 0.3897 - val_accuracy: 0.9200\n",
      "Epoch 20/20\n",
      "29/29 [==============================] - 1s 19ms/step - loss: 7.5117e-04 - accuracy: 1.0000 - val_loss: 0.3922 - val_accuracy: 0.9200\n"
     ]
    },
    {
     "data": {
      "text/plain": [
       "<tensorflow.python.keras.callbacks.History at 0x7fdaaa0e4be0>"
      ]
     },
     "execution_count": 42,
     "metadata": {},
     "output_type": "execute_result"
    }
   ],
   "source": [
    "ann.fit(X_train, y_train, batch_size = 128, epochs = 20, validation_split = 0.1)"
   ]
  },
  {
   "cell_type": "code",
   "execution_count": 43,
   "metadata": {},
   "outputs": [
    {
     "name": "stdout",
     "output_type": "stream",
     "text": [
      "32/32 [==============================] - 0s 3ms/step - loss: 0.2449 - accuracy: 0.9480\n"
     ]
    },
    {
     "data": {
      "text/plain": [
       "[0.244939386844635, 0.9480000138282776]"
      ]
     },
     "execution_count": 43,
     "metadata": {},
     "output_type": "execute_result"
    }
   ],
   "source": [
    "score = ann.evaluate(X_test, y_test)\n",
    "score"
   ]
  },
  {
   "cell_type": "code",
   "execution_count": 44,
   "metadata": {},
   "outputs": [
    {
     "name": "stdout",
     "output_type": "stream",
     "text": [
      "Test loss: 0.245\n",
      "Test Accuracy: 0.948\n"
     ]
    }
   ],
   "source": [
    "print(\"Test loss: {:.3f}\".format(score[0]))\n",
    "print(\"Test Accuracy: {:.3f}\".format(score[1]))"
   ]
  },
  {
   "cell_type": "code",
   "execution_count": 45,
   "metadata": {},
   "outputs": [
    {
     "name": "stdout",
     "output_type": "stream",
     "text": [
      "Epoch 1/20\n",
      "29/29 [==============================] - 0s 17ms/step - loss: 0.7629 - accuracy: 0.7747 - val_loss: 0.4878 - val_accuracy: 0.8575\n",
      "Epoch 2/20\n",
      "29/29 [==============================] - 1s 19ms/step - loss: 0.2642 - accuracy: 0.9247 - val_loss: 0.3812 - val_accuracy: 0.8875\n",
      "Epoch 3/20\n",
      "29/29 [==============================] - 1s 19ms/step - loss: 0.1640 - accuracy: 0.9561 - val_loss: 0.3261 - val_accuracy: 0.9025\n",
      "Epoch 4/20\n",
      "29/29 [==============================] - 0s 16ms/step - loss: 0.1095 - accuracy: 0.9692 - val_loss: 0.3610 - val_accuracy: 0.8950\n",
      "Epoch 5/20\n",
      "29/29 [==============================] - 0s 17ms/step - loss: 0.0877 - accuracy: 0.9756 - val_loss: 0.3297 - val_accuracy: 0.9200\n",
      "Epoch 6/20\n",
      "29/29 [==============================] - 1s 17ms/step - loss: 0.0629 - accuracy: 0.9825 - val_loss: 0.3531 - val_accuracy: 0.9025\n",
      "Epoch 7/20\n",
      "29/29 [==============================] - 1s 18ms/step - loss: 0.0366 - accuracy: 0.9908 - val_loss: 0.3057 - val_accuracy: 0.9250\n",
      "Epoch 8/20\n",
      "29/29 [==============================] - 0s 16ms/step - loss: 0.0198 - accuracy: 0.9964 - val_loss: 0.3149 - val_accuracy: 0.9275\n",
      "Epoch 9/20\n",
      "29/29 [==============================] - 0s 17ms/step - loss: 0.0105 - accuracy: 0.9994 - val_loss: 0.3218 - val_accuracy: 0.9225\n",
      "Epoch 10/20\n",
      "29/29 [==============================] - 1s 18ms/step - loss: 0.0072 - accuracy: 0.9997 - val_loss: 0.3410 - val_accuracy: 0.9250\n",
      "Epoch 11/20\n",
      "29/29 [==============================] - 1s 18ms/step - loss: 0.0051 - accuracy: 1.0000 - val_loss: 0.3525 - val_accuracy: 0.9225\n",
      "Epoch 12/20\n",
      "29/29 [==============================] - 0s 17ms/step - loss: 0.0035 - accuracy: 1.0000 - val_loss: 0.3618 - val_accuracy: 0.9200\n",
      "Epoch 13/20\n",
      "29/29 [==============================] - 0s 17ms/step - loss: 0.0025 - accuracy: 1.0000 - val_loss: 0.3638 - val_accuracy: 0.9225\n",
      "Epoch 14/20\n",
      "29/29 [==============================] - 1s 18ms/step - loss: 0.0021 - accuracy: 1.0000 - val_loss: 0.3739 - val_accuracy: 0.9200\n",
      "Epoch 15/20\n",
      "29/29 [==============================] - 1s 19ms/step - loss: 0.0018 - accuracy: 1.0000 - val_loss: 0.3844 - val_accuracy: 0.9200\n",
      "Epoch 16/20\n",
      "29/29 [==============================] - 1s 18ms/step - loss: 0.0016 - accuracy: 1.0000 - val_loss: 0.3839 - val_accuracy: 0.9175\n",
      "Epoch 17/20\n",
      "29/29 [==============================] - 1s 17ms/step - loss: 0.0014 - accuracy: 1.0000 - val_loss: 0.3934 - val_accuracy: 0.9175\n",
      "Epoch 18/20\n",
      "29/29 [==============================] - 1s 20ms/step - loss: 0.0014 - accuracy: 1.0000 - val_loss: 0.3938 - val_accuracy: 0.9225\n",
      "Epoch 19/20\n",
      "29/29 [==============================] - 1s 19ms/step - loss: 0.0011 - accuracy: 1.0000 - val_loss: 0.4018 - val_accuracy: 0.9175A: 0s - loss: 0.0011 - accuracy\n",
      "Epoch 20/20\n",
      "29/29 [==============================] - 1s 18ms/step - loss: 9.5928e-04 - accuracy: 1.0000 - val_loss: 0.4073 - val_accuracy: 0.9175\n"
     ]
    }
   ],
   "source": [
    "\n",
    "model = Sequential([\n",
    "    Dense(1024, input_shape=(400,), activation='relu'),\n",
    "    Dense(1024, activation='relu'),\n",
    "    Dense(10, activation='softmax'),\n",
    "])\n",
    "model.compile(\"adam\", \"categorical_crossentropy\", metrics=['accuracy'])\n",
    "history = model.fit(X_train, y_train, batch_size=128,\n",
    "                    epochs=20, verbose=1, validation_split=.1)"
   ]
  },
  {
   "cell_type": "code",
   "execution_count": 46,
   "metadata": {},
   "outputs": [],
   "source": [
    "score = model.evaluate(X_test, y_test, verbose = 0)"
   ]
  },
  {
   "cell_type": "code",
   "execution_count": 47,
   "metadata": {},
   "outputs": [
    {
     "name": "stdout",
     "output_type": "stream",
     "text": [
      "Test loss: 0.243\n",
      "Test Accuracy: 0.950\n"
     ]
    }
   ],
   "source": [
    "print(\"Test loss: {:.3f}\".format(score[0]))\n",
    "print(\"Test Accuracy: {:.3f}\".format(score[1]))"
   ]
  },
  {
   "cell_type": "code",
   "execution_count": 48,
   "metadata": {},
   "outputs": [
    {
     "data": {
      "text/plain": [
       "Text(0, 0.5, 'loss')"
      ]
     },
     "execution_count": 48,
     "metadata": {},
     "output_type": "execute_result"
    },
    {
     "data": {
      "image/png": "[encoded data removed]",
      "text/plain": [
       "<Figure size 432x288 with 2 Axes>"
      ]
     },
     "metadata": {
      "needs_background": "light"
     },
     "output_type": "display_data"
    }
   ],
   "source": [
    "df = pd.DataFrame(history.history)\n",
    "df[['accuracy', 'val_accuracy']].plot()\n",
    "plt.ylabel(\"accuracy\")\n",
    "df[['loss', 'val_loss']].plot(linestyle = '--', ax = plt.twinx())\n",
    "plt.ylabel(\"loss\")"
   ]
  },
  {
   "cell_type": "code",
   "execution_count": 49,
   "metadata": {},
   "outputs": [
    {
     "name": "stdout",
     "output_type": "stream",
     "text": [
      "Epoch 1/20\n",
      "29/29 [==============================] - 1s 23ms/step - loss: 1.0257 - accuracy: 0.6700 - val_loss: 0.6030 - val_accuracy: 0.8375\n",
      "Epoch 2/20\n",
      "29/29 [==============================] - 1s 19ms/step - loss: 0.4024 - accuracy: 0.8797 - val_loss: 0.4180 - val_accuracy: 0.8875\n",
      "Epoch 3/20\n",
      "29/29 [==============================] - 1s 23ms/step - loss: 0.2857 - accuracy: 0.9164 - val_loss: 0.3585 - val_accuracy: 0.9000\n",
      "Epoch 4/20\n",
      "29/29 [==============================] - 1s 21ms/step - loss: 0.2307 - accuracy: 0.9308 - val_loss: 0.3536 - val_accuracy: 0.9075\n",
      "Epoch 5/20\n",
      "29/29 [==============================] - 1s 20ms/step - loss: 0.1759 - accuracy: 0.9489 - val_loss: 0.3261 - val_accuracy: 0.9075\n",
      "Epoch 6/20\n",
      "29/29 [==============================] - 1s 21ms/step - loss: 0.1513 - accuracy: 0.9519 - val_loss: 0.3198 - val_accuracy: 0.9225\n",
      "Epoch 7/20\n",
      "29/29 [==============================] - 1s 20ms/step - loss: 0.1279 - accuracy: 0.9594 - val_loss: 0.3203 - val_accuracy: 0.9100\n",
      "Epoch 8/20\n",
      "29/29 [==============================] - 1s 19ms/step - loss: 0.0944 - accuracy: 0.9731 - val_loss: 0.3060 - val_accuracy: 0.9175\n",
      "Epoch 9/20\n",
      "29/29 [==============================] - 1s 19ms/step - loss: 0.0933 - accuracy: 0.9714 - val_loss: 0.3205 - val_accuracy: 0.9175\n",
      "Epoch 10/20\n",
      "29/29 [==============================] - 1s 21ms/step - loss: 0.0797 - accuracy: 0.9767 - val_loss: 0.3134 - val_accuracy: 0.9225\n",
      "Epoch 11/20\n",
      "29/29 [==============================] - 1s 22ms/step - loss: 0.0796 - accuracy: 0.9769 - val_loss: 0.3329 - val_accuracy: 0.9175\n",
      "Epoch 12/20\n",
      "29/29 [==============================] - 1s 20ms/step - loss: 0.0598 - accuracy: 0.9814 - val_loss: 0.3427 - val_accuracy: 0.9175\n",
      "Epoch 13/20\n",
      "29/29 [==============================] - 1s 22ms/step - loss: 0.0525 - accuracy: 0.9847 - val_loss: 0.3182 - val_accuracy: 0.9250\n",
      "Epoch 14/20\n",
      "29/29 [==============================] - 1s 21ms/step - loss: 0.0440 - accuracy: 0.9892 - val_loss: 0.3392 - val_accuracy: 0.9225\n",
      "Epoch 15/20\n",
      "29/29 [==============================] - 1s 20ms/step - loss: 0.0396 - accuracy: 0.9869 - val_loss: 0.3762 - val_accuracy: 0.9175\n",
      "Epoch 16/20\n",
      "29/29 [==============================] - 1s 24ms/step - loss: 0.0392 - accuracy: 0.9875 - val_loss: 0.3873 - val_accuracy: 0.9200\n",
      "Epoch 17/20\n",
      "29/29 [==============================] - 1s 20ms/step - loss: 0.0370 - accuracy: 0.9878 - val_loss: 0.3789 - val_accuracy: 0.9100\n",
      "Epoch 18/20\n",
      "29/29 [==============================] - 1s 21ms/step - loss: 0.0373 - accuracy: 0.9872 - val_loss: 0.3576 - val_accuracy: 0.9250\n",
      "Epoch 19/20\n",
      "29/29 [==============================] - 1s 25ms/step - loss: 0.0350 - accuracy: 0.9894 - val_loss: 0.3416 - val_accuracy: 0.9225\n",
      "Epoch 20/20\n",
      "29/29 [==============================] - 1s 22ms/step - loss: 0.0227 - accuracy: 0.9961 - val_loss: 0.3573 - val_accuracy: 0.9250\n"
     ]
    }
   ],
   "source": [
    "from keras.layers import Dropout\n",
    "\n",
    "model2 = Sequential([\n",
    "    Dense(1024, input_shape=(400,), activation='relu'),\n",
    "    Dropout(.5),\n",
    "    Dense(1024, activation='relu'),\n",
    "    Dropout(.5),\n",
    "    Dense(10, activation='softmax'),\n",
    "])\n",
    "model2.compile(\"adam\", \"categorical_crossentropy\", metrics=['accuracy'])\n",
    "history_dropout = model2.fit(X_train, y_train, batch_size=128,\n",
    "                            epochs=20, verbose=1, validation_split=.1)"
   ]
  },
  {
   "cell_type": "code",
   "execution_count": 50,
   "metadata": {},
   "outputs": [
    {
     "name": "stdout",
     "output_type": "stream",
     "text": [
      "Model: \"sequential_2\"\n",
      "_________________________________________________________________\n",
      "Layer (type)                 Output Shape              Param #   \n",
      "=================================================================\n",
      "dense_6 (Dense)              (None, 1024)              410624    \n",
      "_________________________________________________________________\n",
      "dropout (Dropout)            (None, 1024)              0         \n",
      "_________________________________________________________________\n",
      "dense_7 (Dense)              (None, 1024)              1049600   \n",
      "_________________________________________________________________\n",
      "dropout_1 (Dropout)          (None, 1024)              0         \n",
      "_________________________________________________________________\n",
      "dense_8 (Dense)              (None, 10)                10250     \n",
      "=================================================================\n",
      "Total params: 1,470,474\n",
      "Trainable params: 1,470,474\n",
      "Non-trainable params: 0\n",
      "_________________________________________________________________\n"
     ]
    }
   ],
   "source": [
    "model2.summary()"
   ]
  },
  {
   "cell_type": "code",
   "execution_count": 51,
   "metadata": {},
   "outputs": [
    {
     "name": "stdout",
     "output_type": "stream",
     "text": [
      "Test loss: 0.243\n",
      "Test Accuracy: 0.950\n"
     ]
    }
   ],
   "source": [
    "score2 = model.evaluate(X_test, y_test, verbose = 0)\n",
    "print(\"Test loss: {:.3f}\".format(score2[0]))\n",
    "print(\"Test Accuracy: {:.3f}\".format(score2[1]))"
   ]
  },
  {
   "cell_type": "code",
   "execution_count": 52,
   "metadata": {},
   "outputs": [
    {
     "data": {
      "text/plain": [
       "Text(0, 0.5, 'loss')"
      ]
     },
     "execution_count": 52,
     "metadata": {},
     "output_type": "execute_result"
    },
    {
     "data": {
      "image/png": "[encoded data removed]",
      "text/plain": [
       "<Figure size 432x288 with 2 Axes>"
      ]
     },
     "metadata": {
      "needs_background": "light"
     },
     "output_type": "display_data"
    }
   ],
   "source": [
    "df2 = pd.DataFrame(history_dropout.history)\n",
    "df2[['accuracy', 'val_accuracy']].plot()\n",
    "plt.ylabel(\"accuracy\")\n",
    "df2[['loss', 'val_loss']].plot(linestyle = '--', ax = plt.twinx())\n",
    "plt.ylabel(\"loss\")"
   ]
  },
  {
   "cell_type": "code",
   "execution_count": null,
   "metadata": {},
   "outputs": [],
   "source": []
  }
 ],
 "metadata": {
  "kernelspec": {
   "display_name": "Python 3",
   "language": "python",
   "name": "python3"
  },
  "language_info": {
   "codemirror_mode": {
    "name": "ipython",
    "version": 3
   },
   "file_extension": ".py",
   "mimetype": "text/x-python",
   "name": "python",
   "nbconvert_exporter": "python",
   "pygments_lexer": "ipython3",
   "version": "3.8.3"
  }
 },
 "nbformat": 4,
 "nbformat_minor": 2
}
