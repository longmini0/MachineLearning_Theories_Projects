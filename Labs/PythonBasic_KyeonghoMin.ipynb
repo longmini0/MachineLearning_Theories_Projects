{
 "cells": [
  {
   "cell_type": "markdown",
   "metadata": {},
   "source": [
    "# Python Basics Examination\n",
    "\n",
    "Name: Kyeongho Min\n",
    "\n",
    "Email: KMin@scu.edu"
   ]
  },
  {
   "cell_type": "markdown",
   "metadata": {},
   "source": [
    "## Question #1"
   ]
  },
  {
   "cell_type": "code",
   "execution_count": 25,
   "metadata": {},
   "outputs": [],
   "source": [
    " #run this cell to load 'baddata'\n",
    "baddata = [\n",
    "\"Zip Code\\tTotal Population\\tMedian Age\\tTotal Males\\tTotal Females\\tTotal Households\\tAverage Household Size\\t\",\n",
    "\"  90001\\t57110\\t26.6\\t28468\\t28642\\t12971\\t4.4 \",\n",
    "\"90002\\t51223\\t25.5\\t24876\\t26347\\t11731\\t4.36\\t\",\n",
    "\"\\t\\t\\t\\t90003\\t66266\\t26.3\\t32631\\t33635\\t15642\\t4.22  \"\n",
    "]"
   ]
  },
  {
   "cell_type": "code",
   "execution_count": 26,
   "metadata": {},
   "outputs": [
    {
     "data": {
      "text/plain": [
       "['Zip Code\\tTotal Population\\tMedian Age\\tTotal Males\\tTotal Females\\tTotal Households\\tAverage Household Size',\n",
       " '90001\\t57110\\t26.6\\t28468\\t28642\\t12971\\t4.4',\n",
       " '90002\\t51223\\t25.5\\t24876\\t26347\\t11731\\t4.36',\n",
       " '90003\\t66266\\t26.3\\t32631\\t33635\\t15642\\t4.22']"
      ]
     },
     "execution_count": 26,
     "metadata": {},
     "output_type": "execute_result"
    }
   ],
   "source": [
    "## Student Response Goes Here\n",
    "\n",
    "mydata = []  # set default list\n",
    "\n",
    "for row in baddata:\n",
    "    mydata.append(row.strip())  # use strip func to erase errant\n",
    "    \n",
    "mydata\n",
    "    \n",
    "## Student Response Goes Here"
   ]
  },
  {
   "cell_type": "markdown",
   "metadata": {},
   "source": [
    "## Question #2"
   ]
  },
  {
   "cell_type": "code",
   "execution_count": 27,
   "metadata": {},
   "outputs": [],
   "source": [
    "# data taken from data.gov\n",
    "# https://catalog.data.gov/dataset/demographic-statistics-by-zip-code-acfc9\n",
    "# https://data.cityofnewyork.us/api/views/kku6-nxdu/rows.csv?accessType=DOWNLOAD\n",
    "\n",
    "data = \"\"\"\n",
    "Zip Code**Total Population**Median Age**Total Males**Total Females**Total Households**Average Household Size\n",
    "90001**57110**26.6**28468**28642**12971**4.4\n",
    "90002**51223**25.5**24876**26347**11731**4.36\n",
    "90003**66266**26.3**32631**33635**15642**4.22\n",
    "\"\"\".strip()"
   ]
  },
  {
   "cell_type": "markdown",
   "metadata": {},
   "source": [
    "## A.) Solve with indexing, but no loops"
   ]
  },
  {
   "cell_type": "code",
   "execution_count": 28,
   "metadata": {},
   "outputs": [
    {
     "data": {
      "text/plain": [
       "[['Zip Code',\n",
       "  'Total Population',\n",
       "  'Median Age',\n",
       "  'Total Males',\n",
       "  'Total Females',\n",
       "  'Total Households',\n",
       "  'Average Household Size'],\n",
       " ['90001', '57110', '26.6', '28468', '28642', '12971', '4.4'],\n",
       " ['90002', '51223', '25.5', '24876', '26347', '11731', '4.36'],\n",
       " ['90003', '66266', '26.3', '32631', '33635', '15642', '4.22']]"
      ]
     },
     "execution_count": 28,
     "metadata": {},
     "output_type": "execute_result"
    }
   ],
   "source": [
    "## Student Response Goes Here\n",
    "\n",
    "\n",
    "gooddata = [\n",
    "    data.split('\\n')[0].split('**'),   # Split 'data' by '\\n', and split first row by '\\t'\n",
    "    data.split('\\n')[1].split('**'),\n",
    "    data.split('\\n')[2].split('**'),\n",
    "    data.split('\\n')[3].split('**')\n",
    "]\n",
    "\n",
    "gooddata    # Make the list of list of strings \n",
    "\n",
    "## Student Response Goes Here"
   ]
  },
  {
   "cell_type": "markdown",
   "metadata": {},
   "source": [
    "## B.) Solve with a FOR loop"
   ]
  },
  {
   "cell_type": "code",
   "execution_count": 29,
   "metadata": {},
   "outputs": [
    {
     "data": {
      "text/plain": [
       "[['Zip Code',\n",
       "  'Total Population',\n",
       "  'Median Age',\n",
       "  'Total Males',\n",
       "  'Total Females',\n",
       "  'Total Households',\n",
       "  'Average Household Size'],\n",
       " ['90001', '57110', '26.6', '28468', '28642', '12971', '4.4'],\n",
       " ['90002', '51223', '25.5', '24876', '26347', '11731', '4.36'],\n",
       " ['90003', '66266', '26.3', '32631', '33635', '15642', '4.22']]"
      ]
     },
     "execution_count": 29,
     "metadata": {},
     "output_type": "execute_result"
    }
   ],
   "source": [
    "## Student Response Goes Here\n",
    "\n",
    "gooddata2 = []  # Set default list\n",
    "\n",
    "for row in data.split('\\n'):     # Split 'data' by '\\n'\n",
    "    gooddata2.append(row.split('**'))  # Split each row by '\\t', and set list using loop\n",
    "    \n",
    "gooddata2\n",
    "\n",
    "## Student Response Goes Here"
   ]
  },
  {
   "cell_type": "markdown",
   "metadata": {},
   "source": [
    "## Question #3\n",
    "Write a function that takes in a string, then converts it to Pig Latin\n",
    "\n",
    "Rules:\n",
    "\n",
    "For words that begin with consonant sounds, all letters before the initial vowel are placed at the end of the word sequence. Then, \"ay\" is added, as in the following examples:[12]\n",
    "\n",
    "* \"pig\" = \"igpay\"\n",
    "* \"latin\" = \"atinlay\"\n",
    "* \"banana\" = \"ananabay\"\n",
    "\n",
    "For words that begin with vowel sounds, one just adds \"way\" or \"ay\" to the end. Examples are:\n",
    "\n",
    "* \"eat\" = \"eatay\"\n",
    "* \"omelet\" = \"omeletay\""
   ]
  },
  {
   "cell_type": "code",
   "execution_count": 30,
   "metadata": {},
   "outputs": [
    {
     "name": "stdout",
     "output_type": "stream",
     "text": [
      "Type a word: banana\n"
     ]
    },
    {
     "data": {
      "text/plain": [
       "'ananabay'"
      ]
     },
     "execution_count": 30,
     "metadata": {},
     "output_type": "execute_result"
    }
   ],
   "source": [
    "## Student Response Goes Here\n",
    "\n",
    "def piglatin(word):\n",
    "    letters = list(word.strip())  # Make list with each letter\n",
    "    vowels = 'aeiouAEIOU'    # set vowel variable to find vowel in word\n",
    "    index = 0 \n",
    "    \n",
    "    for i, letter in enumerate(letters):\n",
    "        if letter in vowels:\n",
    "            index = i\n",
    "            break\n",
    "    return word[index:] + word[:index] + 'ay'\n",
    "\n",
    "userinput = input('Type a word: ')\n",
    "\n",
    "piglatin(userinput)\n",
    "\n",
    "## Student Response Goes Here"
   ]
  },
  {
   "cell_type": "markdown",
   "metadata": {},
   "source": [
    "## Question #4\n",
    "Write a function that takes in a user input (done for you below) and calculates all the squares up to that number.\n",
    "\n",
    "For example, if the input is 4, the output should be:[1,4,9,16]"
   ]
  },
  {
   "cell_type": "code",
   "execution_count": 36,
   "metadata": {},
   "outputs": [
    {
     "name": "stdout",
     "output_type": "stream",
     "text": [
      "How many squared numbers would you like? (Make sure you enter a valid int!):\n",
      " 5\n",
      "Your result is :\n",
      "[1, 4, 9, 16, 25]\n"
     ]
    }
   ],
   "source": [
    "## Student Response Goes Here\n",
    "## Function creates a list of squared ints through a specific range\n",
    "def squared_upto(z):\n",
    "    # Student Response Goes Here\n",
    "    mylist = []\n",
    "    for i in range(z):\n",
    "        mylist.append((i+1)**2)\n",
    "        \n",
    "    return mylist\n",
    "    # Student Response Goes Here\n",
    "\n",
    "    \n",
    "# Let's test your answer (this part is done for you):\n",
    "\n",
    "## Asks the user for an input to how many square numbers they would like\n",
    "userinput = input(\"How many squared numbers would you like? (Make sure you enter a valid int!):\\n \")\n",
    "## Takes the user input and puts it through the squared function while saving the result under answer\n",
    "answer = squared_upto(int(userinput)) \n",
    "## Prints the user their desired amount of numbers squared \n",
    "print(\"Your result is :\\n{}\".format(answer))\n"
   ]
  },
  {
   "cell_type": "markdown",
   "metadata": {},
   "source": [
    "## Question #5"
   ]
  },
  {
   "cell_type": "markdown",
   "metadata": {},
   "source": [
    "Write a simple OOP version of Black Jack, using this class definition:\n",
    "https://github.com/denisvrdoljak/OMIS30_Fall2018/blob/master/ClassesAndGames/deckofcards.py\n",
    "\n",
    "* Only allow the user to take 2 actions, Hit and Stand. \n",
    "* Automate the dealer play (dealer should Hit until 17 then stand). \n",
    "* Make sure you loop indefinitely until the user chooses to quit, or runs out of chips. \n",
    "* Start the user with 100 chips.\n",
    "\n",
    "Hint: if you use the classes defined for you, you only have to define a simple gameplay algorithm in the main() function. If you are unsure about the rules or algorithm, make sure to define what you intend to do in a markdown cell below!\n",
    "\n",
    "Do not change the class definitions. You may make new classes if you want to (you don't need to)."
   ]
  },
  {
   "cell_type": "code",
   "execution_count": 39,
   "metadata": {},
   "outputs": [
    {
     "name": "stdout",
     "output_type": "stream",
     "text": [
      "=== === testing deal card function=== ===\n",
      "\n",
      "Testing the card deck:\n",
      "(Dealing the whole deck)\n",
      "A♣ A♦ A♥ A♠ K♣ K♦ K♥ K♠ Q♣ Q♦ Q♥ Q♠ J♣ J♦ J♥ J♠ 10♣ 10♦ 10♥ 10♠ 9♣ 9♦ 9♥ 9♠ 8♣ 8♦ 8♥ 8♠ 7♣ 7♦ 7♥ 7♠ 6♣ 6♦ 6♥ 6♠ 5♣ 5♦ 5♥ 5♠ 4♣ 4♦ 4♥ 4♠ 3♣ 3♦ 3♥ 3♠ 2♣ 2♦ 2♥ 2♠ "
     ]
    },
    {
     "ename": "NameError",
     "evalue": "name 'player' is not defined",
     "output_type": "error",
     "traceback": [
      "\u001b[0;31m---------------------------------------------------------------------------\u001b[0m",
      "\u001b[0;31mNameError\u001b[0m                                 Traceback (most recent call last)",
      "\u001b[0;32m<ipython-input-39-5595800a19fe>\u001b[0m in \u001b[0;36m<module>\u001b[0;34m\u001b[0m\n\u001b[1;32m     71\u001b[0m     \u001b[0;31m# Student answer goes here\u001b[0m\u001b[0;34m\u001b[0m\u001b[0;34m\u001b[0m\u001b[0;34m\u001b[0m\u001b[0m\n\u001b[1;32m     72\u001b[0m \u001b[0;34m\u001b[0m\u001b[0m\n\u001b[0;32m---> 73\u001b[0;31m \u001b[0mmaingameplay\u001b[0m\u001b[0;34m(\u001b[0m\u001b[0;34m)\u001b[0m\u001b[0;34m\u001b[0m\u001b[0;34m\u001b[0m\u001b[0m\n\u001b[0m",
      "\u001b[0;32m<ipython-input-39-5595800a19fe>\u001b[0m in \u001b[0;36mmaingameplay\u001b[0;34m()\u001b[0m\n\u001b[1;32m     67\u001b[0m \u001b[0;34m\u001b[0m\u001b[0m\n\u001b[1;32m     68\u001b[0m     \u001b[0;32mwhile\u001b[0m \u001b[0;32mTrue\u001b[0m\u001b[0;34m:\u001b[0m\u001b[0;34m\u001b[0m\u001b[0;34m\u001b[0m\u001b[0m\n\u001b[0;32m---> 69\u001b[0;31m         \u001b[0mplayer\u001b[0m\u001b[0;34m\u001b[0m\u001b[0;34m\u001b[0m\u001b[0m\n\u001b[0m\u001b[1;32m     70\u001b[0m \u001b[0;34m\u001b[0m\u001b[0m\n\u001b[1;32m     71\u001b[0m     \u001b[0;31m# Student answer goes here\u001b[0m\u001b[0;34m\u001b[0m\u001b[0;34m\u001b[0m\u001b[0;34m\u001b[0m\u001b[0m\n",
      "\u001b[0;31mNameError\u001b[0m: name 'player' is not defined"
     ]
    }
   ],
   "source": [
    "import random # if needed\n",
    "\n",
    "class Card:\n",
    "    possiblesuits = ('Spade', 'Heart', 'Diamond', 'Club')\n",
    "    suitsymbols = {text: symbol for text, symbol in zip(('Spade', 'Heart', 'Diamond', 'Club'), ['\\u2660', '\\u2665', '\\u2666', '\\u2663'])}\n",
    "    possiblecardvalues = [str(n) for n in range(2, 11)] + ['J', 'Q', 'K','A']\n",
    "\n",
    "    def __init__(self,suit,cardvalue):\n",
    "        if suit.title() not in self.possiblesuits:\n",
    "            raise ValueError(\"'{}' is not a valid suit. Valid suits are -- {} -- passed in as a string\".format(suit,self.possiblesuits))\n",
    "        if cardvalue.upper() not in self.possiblecardvalues:\n",
    "            raise ValueError(\"'{}' is not a valid card value. Valid suits are -- {} -- passed in as a string\".format(cardvalue, self.possiblecardvalues))\n",
    "        self.value = cardvalue.upper()\n",
    "        self.suit = suit.title()\n",
    "        self.suitsymbol = self.suitsymbols[self.suit]\n",
    "\n",
    "    def __repr__(self):\n",
    "        return '{}{}'.format(self.value, self.suitsymbol)\n",
    "\n",
    "class Deck:\n",
    "    def __init__(self):\n",
    "        self.loadnewdeck()\n",
    "        self.shuffledeck()\n",
    "\n",
    "    def loadnewdeck(self):\n",
    "        self.deck = list()\n",
    "        for value in Card.possiblecardvalues:\n",
    "            for suit in Card.possiblesuits:\n",
    "                self.deck.append(Card(suit,value))\n",
    "\n",
    "    def shuffledeck(self):\n",
    "        random.shuffle(self.deck)\n",
    "\n",
    "    def cardsleftindeck(self):\n",
    "        return len(self.deck)\n",
    "\n",
    "    def dealcard(self):\n",
    "        return self.deck.pop()\n",
    "\n",
    "if __name__ == \"__main__\":\n",
    "    print(\"=== === testing deal card function=== ===\")\n",
    "\n",
    "    #print(\"\\nTesting the duck\")\n",
    "    #myduck = Duck()\n",
    "    #myduck.nametheduck(\"Bob\")\n",
    "    #myduck.quack()\n",
    "\n",
    "    #print(\"\\nTesting the soccer ball\")\n",
    "    #mysoccerball = SoccerBall()\n",
    "    #mysoccerball.kick()\n",
    "\n",
    "    # random.seed(5)\n",
    "    # remove seed when done testing\n",
    "    print(\"\\nTesting the card deck:\")\n",
    "    testdeck = Deck()\n",
    "    testdeck.loadnewdeck()\n",
    "    #testdeck.shuffledeck()\n",
    "    print(\"(Dealing the whole deck)\")\n",
    "    while testdeck.cardsleftindeck() > 0:\n",
    "        card = testdeck.dealcard()\n",
    "        print(card,end=\" \")\n",
    "    \n",
    "        \n",
    "## Import the definitions file, or copy/paste into an additional cell above this one.\n",
    " \n",
    "def maingameplay():\n",
    "    # Student answer goes here\n",
    "    player1 = Deck()\n",
    "    deck1 = Card()\n",
    "   \n",
    "    while True:\n",
    "        player1 = Deck.loadnewdeck()\n",
    "    \n",
    "    # Student answer goes here\n",
    "            \n",
    "class Card:\n",
    "    possiblesuits = ('Spade', 'Heart', 'Diamond', 'Club')\n",
    "    suitsymbols = {text: symbol for text, symbol in zip(('Spade', 'Heart', 'Diamond', 'Club'), ['\\u2660', '\\u2665', '\\u2666', '\\u2663'])}\n",
    "    possiblecardvalues = [str(n) for n in range(2, 11)] + ['J', 'Q', 'K','A']\n",
    "\n",
    "    def __init__(self,suit,cardvalue):\n",
    "        if suit.title() not in self.possiblesuits:\n",
    "            raise ValueError(\"'{}' is not a valid suit. Valid suits are -- {} -- passed in as a string\".format(suit,self.possiblesuits))\n",
    "        if cardvalue.upper() not in self.possiblecardvalues:\n",
    "            raise ValueError(\"'{}' is not a valid card value. Valid suits are -- {} -- passed in as a string\".format(cardvalue, self.possiblecardvalues))\n",
    "        self.value = cardvalue.upper()\n",
    "        self.suit = suit.title()\n",
    "        self.suitsymbol = self.suitsymbols[self.suit]\n",
    "\n",
    "    def __repr__(self):\n",
    "        return '{}{}'.format(self.value, self.suitsymbol)\n",
    "\n",
    "class Deck:\n",
    "    def __init__(self):\n",
    "        self.loadnewdeck()\n",
    "        self.shuffledeck()\n",
    "\n",
    "    def loadnewdeck(self):\n",
    "        self.deck = list()\n",
    "        for value in Card.possiblecardvalues:\n",
    "            for suit in Card.possiblesuits:\n",
    "                self.deck.append(Card(suit,value))\n",
    "\n",
    "    def shuffledeck(self):\n",
    "        random.shuffle(self.deck)\n",
    "\n",
    "    def cardsleftindeck(self):\n",
    "        return len(self.deck)\n",
    "\n",
    "    def dealcard(self):\n",
    "        return self.deck.pop()\n",
    "\n",
    "if __name__ == \"__main__\":\n",
    "    print(\"=== === testing deal card function=== ===\")\n",
    "\n",
    "    print(\"\\nTesting the duck\")\n",
    "    myduck = Duck()\n",
    "    myduck.nametheduck(\"Bob\")\n",
    "    myduck.quack()\n",
    "\n",
    "    print(\"\\nTesting the soccer ball\")\n",
    "    mysoccerball = SoccerBall()\n",
    "    mysoccerball.kick()\n",
    "\n",
    "    #random.seed(5)\n",
    "    # remove seed when done testing\n",
    "    print(\"\\nTesting the card deck:\")\n",
    "    testdeck = Deck()\n",
    "    testdeck.loadnewdeck()\n",
    "    #testdeck.shuffledeck()\n",
    "    print(\"(Dealing the whole deck)\")\n",
    "    while testdeck.cardsleftindeck() > 0:\n",
    "        card = testdeck.dealcard()\n",
    "        print(card,end=\" \")"
   ]
  },
  {
   "cell_type": "code",
   "execution_count": null,
   "metadata": {},
   "outputs": [],
   "source": []
  }
 ],
 "metadata": {
  "kernelspec": {
   "display_name": "Python 3",
   "language": "python",
   "name": "python3"
  },
  "language_info": {
   "codemirror_mode": {
    "name": "ipython",
    "version": 3
   },
   "file_extension": ".py",
   "mimetype": "text/x-python",
   "name": "python",
   "nbconvert_exporter": "python",
   "pygments_lexer": "ipython3",
   "version": "3.7.3"
  }
 },
 "nbformat": 4,
 "nbformat_minor": 2
}
